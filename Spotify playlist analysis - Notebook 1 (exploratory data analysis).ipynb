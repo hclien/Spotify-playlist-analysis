{
 "cells": [
  {
   "cell_type": "markdown",
   "id": "81562cd2",
   "metadata": {},
   "source": [
    "## Are the music genres similar between friends? (Part 1)\n",
    "\n",
    "In this project, I'd like to explore the songs in me and my friend Cindy's Spotify playlists.<br>\n",
    "Cindy and I have been close friends since college. I know that she mainly listens to Japanese songs, but I prefer English songs.<br>\n",
    "My guessing is that our music tastes are very different.<br>\n",
    "\n",
    "I fetched our playlists using Spotify API.<br>\n",
    "Let's try to answer the question: **Are the music genres similar between friends?**\n",
    "<br>\n",
    "\n",
    "This project is divided into two parts, presented by two notebooks, this is notebook 1, which contains the following steps:\n",
    "1. **Data cleaning** (check for variable types, missing data, duplicates in each user's playlist)\n",
    "2. **Normalization** before drawing the histogram\n",
    "3. **Data visualization** (histograms, bar plots)\n",
    "4. Find repeated songs in both playlists\n",
    "5. **Correlation** between each variables\n",
    "<br>\n",
    "\n",
    "In notebook 2, we'll try to build a model to predict which user a song should belong to, which contains the following steps:\n",
    "1. **Feature engineering** (standardization)\n",
    "2. **Logistic regression** model\n",
    "3. **Random forest** classifier\n",
    "4. **Hyperparameters tuning**\n",
    "5. Conclusions"
   ]
  },
  {
   "cell_type": "markdown",
   "id": "23ef82f2",
   "metadata": {},
   "source": [
    "### 1. Data cleaning"
   ]
  },
  {
   "cell_type": "code",
   "execution_count": 1,
   "id": "6c522123",
   "metadata": {},
   "outputs": [],
   "source": [
    "import pandas as pd\n",
    "import numpy as np\n",
    "import matplotlib.pyplot as plt\n",
    "%matplotlib inline"
   ]
  },
  {
   "cell_type": "code",
   "execution_count": 2,
   "id": "958e82fa",
   "metadata": {},
   "outputs": [
    {
     "name": "stdout",
     "output_type": "stream",
     "text": [
      "561 1290\n"
     ]
    }
   ],
   "source": [
    "# Import data (Spotify playlists of two different users)\n",
    "UserA = pd.read_csv(\"fm12z8ig3mo6s9axre6049m5h-1vgZmbngUv9YFEsz3AB18e.csv\") # Me (Connie)\n",
    "UserB = pd.read_csv(\"21hi7kguws4venzuqvqs4lska-6KeEoUTI2bbmOoK7McTrLF.csv\") # My friend Cindy\n",
    "\n",
    "a = len(UserA)\n",
    "b = len(UserB)\n",
    "\n",
    "print(a,b)"
   ]
  },
  {
   "cell_type": "code",
   "execution_count": 3,
   "id": "4281165f",
   "metadata": {},
   "outputs": [
    {
     "data": {
      "text/plain": [
       "energy              float64\n",
       "liveness            float64\n",
       "tempo               float64\n",
       "speechiness         float64\n",
       "acousticness        float64\n",
       "instrumentalness    float64\n",
       "time_signature        int64\n",
       "danceability        float64\n",
       "key                   int64\n",
       "duration_ms           int64\n",
       "loudness            float64\n",
       "valence             float64\n",
       "mode                  int64\n",
       "type                 object\n",
       "uri                  object\n",
       "dtype: object"
      ]
     },
     "execution_count": 3,
     "metadata": {},
     "output_type": "execute_result"
    }
   ],
   "source": [
    "UserA.dtypes"
   ]
  },
  {
   "cell_type": "code",
   "execution_count": 4,
   "id": "fb3d4968",
   "metadata": {},
   "outputs": [
    {
     "data": {
      "text/plain": [
       "Index(['energy', 'liveness', 'tempo', 'speechiness', 'acousticness',\n",
       "       'instrumentalness', 'time_signature', 'danceability', 'key',\n",
       "       'duration_ms', 'loudness', 'valence', 'mode', 'type', 'uri'],\n",
       "      dtype='object')"
      ]
     },
     "execution_count": 4,
     "metadata": {},
     "output_type": "execute_result"
    }
   ],
   "source": [
    "UserA.columns"
   ]
  },
  {
   "cell_type": "code",
   "execution_count": 5,
   "id": "31329c9a",
   "metadata": {},
   "outputs": [
    {
     "data": {
      "text/html": [
       "<div>\n",
       "<style scoped>\n",
       "    .dataframe tbody tr th:only-of-type {\n",
       "        vertical-align: middle;\n",
       "    }\n",
       "\n",
       "    .dataframe tbody tr th {\n",
       "        vertical-align: top;\n",
       "    }\n",
       "\n",
       "    .dataframe thead th {\n",
       "        text-align: right;\n",
       "    }\n",
       "</style>\n",
       "<table border=\"1\" class=\"dataframe\">\n",
       "  <thead>\n",
       "    <tr style=\"text-align: right;\">\n",
       "      <th></th>\n",
       "      <th>energy</th>\n",
       "      <th>liveness</th>\n",
       "      <th>tempo</th>\n",
       "      <th>speechiness</th>\n",
       "      <th>acousticness</th>\n",
       "      <th>instrumentalness</th>\n",
       "      <th>time_signature</th>\n",
       "      <th>danceability</th>\n",
       "      <th>key</th>\n",
       "      <th>duration_ms</th>\n",
       "      <th>loudness</th>\n",
       "      <th>valence</th>\n",
       "      <th>mode</th>\n",
       "    </tr>\n",
       "  </thead>\n",
       "  <tbody>\n",
       "    <tr>\n",
       "      <th>count</th>\n",
       "      <td>561.000000</td>\n",
       "      <td>561.000000</td>\n",
       "      <td>561.000000</td>\n",
       "      <td>561.000000</td>\n",
       "      <td>561.000000</td>\n",
       "      <td>561.000000</td>\n",
       "      <td>561.000000</td>\n",
       "      <td>561.000000</td>\n",
       "      <td>561.000000</td>\n",
       "      <td>561.000000</td>\n",
       "      <td>561.000000</td>\n",
       "      <td>561.000000</td>\n",
       "      <td>561.000000</td>\n",
       "    </tr>\n",
       "    <tr>\n",
       "      <th>mean</th>\n",
       "      <td>0.565125</td>\n",
       "      <td>0.162255</td>\n",
       "      <td>123.297893</td>\n",
       "      <td>0.052862</td>\n",
       "      <td>0.374275</td>\n",
       "      <td>0.019927</td>\n",
       "      <td>3.953654</td>\n",
       "      <td>0.578889</td>\n",
       "      <td>5.377897</td>\n",
       "      <td>235481.101604</td>\n",
       "      <td>-7.266465</td>\n",
       "      <td>0.417384</td>\n",
       "      <td>0.770053</td>\n",
       "    </tr>\n",
       "    <tr>\n",
       "      <th>std</th>\n",
       "      <td>0.200585</td>\n",
       "      <td>0.121400</td>\n",
       "      <td>29.145264</td>\n",
       "      <td>0.046102</td>\n",
       "      <td>0.304508</td>\n",
       "      <td>0.118239</td>\n",
       "      <td>0.295185</td>\n",
       "      <td>0.138681</td>\n",
       "      <td>3.525389</td>\n",
       "      <td>43385.776300</td>\n",
       "      <td>3.388694</td>\n",
       "      <td>0.207114</td>\n",
       "      <td>0.421174</td>\n",
       "    </tr>\n",
       "    <tr>\n",
       "      <th>min</th>\n",
       "      <td>0.020700</td>\n",
       "      <td>0.029000</td>\n",
       "      <td>46.168000</td>\n",
       "      <td>0.023200</td>\n",
       "      <td>0.001030</td>\n",
       "      <td>0.000000</td>\n",
       "      <td>1.000000</td>\n",
       "      <td>0.130000</td>\n",
       "      <td>0.000000</td>\n",
       "      <td>100787.000000</td>\n",
       "      <td>-34.218000</td>\n",
       "      <td>0.030500</td>\n",
       "      <td>0.000000</td>\n",
       "    </tr>\n",
       "    <tr>\n",
       "      <th>25%</th>\n",
       "      <td>0.425000</td>\n",
       "      <td>0.095100</td>\n",
       "      <td>99.946000</td>\n",
       "      <td>0.031200</td>\n",
       "      <td>0.076700</td>\n",
       "      <td>0.000000</td>\n",
       "      <td>4.000000</td>\n",
       "      <td>0.493000</td>\n",
       "      <td>2.000000</td>\n",
       "      <td>202326.000000</td>\n",
       "      <td>-8.543000</td>\n",
       "      <td>0.246000</td>\n",
       "      <td>1.000000</td>\n",
       "    </tr>\n",
       "    <tr>\n",
       "      <th>50%</th>\n",
       "      <td>0.567000</td>\n",
       "      <td>0.116000</td>\n",
       "      <td>123.949000</td>\n",
       "      <td>0.037800</td>\n",
       "      <td>0.309000</td>\n",
       "      <td>0.000000</td>\n",
       "      <td>4.000000</td>\n",
       "      <td>0.573000</td>\n",
       "      <td>5.000000</td>\n",
       "      <td>232853.000000</td>\n",
       "      <td>-6.690000</td>\n",
       "      <td>0.383000</td>\n",
       "      <td>1.000000</td>\n",
       "    </tr>\n",
       "    <tr>\n",
       "      <th>75%</th>\n",
       "      <td>0.728000</td>\n",
       "      <td>0.171000</td>\n",
       "      <td>141.284000</td>\n",
       "      <td>0.054100</td>\n",
       "      <td>0.643000</td>\n",
       "      <td>0.000006</td>\n",
       "      <td>4.000000</td>\n",
       "      <td>0.684000</td>\n",
       "      <td>9.000000</td>\n",
       "      <td>264307.000000</td>\n",
       "      <td>-5.065000</td>\n",
       "      <td>0.558000</td>\n",
       "      <td>1.000000</td>\n",
       "    </tr>\n",
       "    <tr>\n",
       "      <th>max</th>\n",
       "      <td>0.963000</td>\n",
       "      <td>0.948000</td>\n",
       "      <td>210.534000</td>\n",
       "      <td>0.463000</td>\n",
       "      <td>0.980000</td>\n",
       "      <td>0.978000</td>\n",
       "      <td>5.000000</td>\n",
       "      <td>0.878000</td>\n",
       "      <td>11.000000</td>\n",
       "      <td>484147.000000</td>\n",
       "      <td>-1.573000</td>\n",
       "      <td>0.953000</td>\n",
       "      <td>1.000000</td>\n",
       "    </tr>\n",
       "  </tbody>\n",
       "</table>\n",
       "</div>"
      ],
      "text/plain": [
       "           energy    liveness       tempo  speechiness  acousticness  \\\n",
       "count  561.000000  561.000000  561.000000   561.000000    561.000000   \n",
       "mean     0.565125    0.162255  123.297893     0.052862      0.374275   \n",
       "std      0.200585    0.121400   29.145264     0.046102      0.304508   \n",
       "min      0.020700    0.029000   46.168000     0.023200      0.001030   \n",
       "25%      0.425000    0.095100   99.946000     0.031200      0.076700   \n",
       "50%      0.567000    0.116000  123.949000     0.037800      0.309000   \n",
       "75%      0.728000    0.171000  141.284000     0.054100      0.643000   \n",
       "max      0.963000    0.948000  210.534000     0.463000      0.980000   \n",
       "\n",
       "       instrumentalness  time_signature  danceability         key  \\\n",
       "count        561.000000      561.000000    561.000000  561.000000   \n",
       "mean           0.019927        3.953654      0.578889    5.377897   \n",
       "std            0.118239        0.295185      0.138681    3.525389   \n",
       "min            0.000000        1.000000      0.130000    0.000000   \n",
       "25%            0.000000        4.000000      0.493000    2.000000   \n",
       "50%            0.000000        4.000000      0.573000    5.000000   \n",
       "75%            0.000006        4.000000      0.684000    9.000000   \n",
       "max            0.978000        5.000000      0.878000   11.000000   \n",
       "\n",
       "         duration_ms    loudness     valence        mode  \n",
       "count     561.000000  561.000000  561.000000  561.000000  \n",
       "mean   235481.101604   -7.266465    0.417384    0.770053  \n",
       "std     43385.776300    3.388694    0.207114    0.421174  \n",
       "min    100787.000000  -34.218000    0.030500    0.000000  \n",
       "25%    202326.000000   -8.543000    0.246000    1.000000  \n",
       "50%    232853.000000   -6.690000    0.383000    1.000000  \n",
       "75%    264307.000000   -5.065000    0.558000    1.000000  \n",
       "max    484147.000000   -1.573000    0.953000    1.000000  "
      ]
     },
     "execution_count": 5,
     "metadata": {},
     "output_type": "execute_result"
    }
   ],
   "source": [
    "UserA.describe()"
   ]
  },
  {
   "cell_type": "code",
   "execution_count": 6,
   "id": "8b8eb4fc",
   "metadata": {},
   "outputs": [
    {
     "data": {
      "text/plain": [
       "energy              0\n",
       "liveness            0\n",
       "tempo               0\n",
       "speechiness         0\n",
       "acousticness        0\n",
       "instrumentalness    0\n",
       "time_signature      0\n",
       "danceability        0\n",
       "key                 0\n",
       "duration_ms         0\n",
       "loudness            0\n",
       "valence             0\n",
       "mode                0\n",
       "type                0\n",
       "uri                 0\n",
       "dtype: int64"
      ]
     },
     "execution_count": 6,
     "metadata": {},
     "output_type": "execute_result"
    }
   ],
   "source": [
    "# Check for missing\n",
    "UserA.isna().sum()"
   ]
  },
  {
   "cell_type": "code",
   "execution_count": 7,
   "id": "2c33d601",
   "metadata": {},
   "outputs": [
    {
     "data": {
      "text/plain": [
       "energy              0\n",
       "liveness            0\n",
       "tempo               0\n",
       "speechiness         0\n",
       "acousticness        0\n",
       "instrumentalness    0\n",
       "time_signature      0\n",
       "danceability        0\n",
       "key                 0\n",
       "duration_ms         0\n",
       "loudness            0\n",
       "valence             0\n",
       "mode                0\n",
       "type                0\n",
       "uri                 0\n",
       "dtype: int64"
      ]
     },
     "execution_count": 7,
     "metadata": {},
     "output_type": "execute_result"
    }
   ],
   "source": [
    "UserB.isna().sum()"
   ]
  },
  {
   "cell_type": "code",
   "execution_count": 8,
   "id": "6f888374",
   "metadata": {},
   "outputs": [
    {
     "name": "stdout",
     "output_type": "stream",
     "text": [
      "561 561\n"
     ]
    }
   ],
   "source": [
    "# Check duplicates\n",
    "dupA = UserA.drop_duplicates().reset_index(drop=True)\n",
    "print(len(UserA), len(dupA))"
   ]
  },
  {
   "cell_type": "code",
   "execution_count": 9,
   "id": "780cbb8f",
   "metadata": {},
   "outputs": [
    {
     "name": "stdout",
     "output_type": "stream",
     "text": [
      "1290 1289\n"
     ]
    }
   ],
   "source": [
    "dupB = UserB.drop_duplicates().reset_index(drop=True)\n",
    "print(len(UserB), len(dupB))"
   ]
  },
  {
   "cell_type": "markdown",
   "id": "7cdff8ac",
   "metadata": {},
   "source": [
    "### What do we know about our data?\n",
    "\n",
    "#### The following are the audio features of songs:\n",
    "* **danceability**: how suitable the track is for dancing, 0(not danceable)->1(very danceable)\n",
    "* **energy**: how energetic the track is, 0(less energetic)->1(very energetic)\n",
    "* **key**: the major key of the track, 0:C, 1:C#, 2:D, ..., 11:B\n",
    "* **loudness**: how loud the song is in dB -60(very quiet)->0(very loud)\n",
    "* **mode**: whether the track is major (1) or minor (0)\n",
    "* **speechiness**: the ratio of spoken words to the overall, 0(instrumental)->1(talk show)\n",
    "* **acousticness**: whether the song is acoustic or not, 0(not acoustic)->1(very acoustic)\n",
    "* **instrumentalness**: the ratio of instrumental sounds overall, 0(lot of vocal sounds)->1(instrument sounds)\n",
    "* **liveness**: presence of audience, 0(studio record)->1(concert)\n",
    "* **valence**: how positive the music is, 0(sad)->1(cheerful)\n",
    "* **tempo**: tempo of track in BPM\n",
    "* **time_signature**: the predicted time signature of the track, most typically 4\n",
    "<br>\n",
    "\n",
    "* ref: https://www.kaggle.com/yamaerenay/spotify-dataset-19212020-160k-tracks?select=tracks.csv"
   ]
  },
  {
   "cell_type": "markdown",
   "id": "6d260b4e",
   "metadata": {},
   "source": [
    "I decided to normalize **tempo** and **loudness** to have consistency in the scale of the histogram."
   ]
  },
  {
   "cell_type": "markdown",
   "id": "2711b9cf",
   "metadata": {},
   "source": [
    "### 2. Normalization"
   ]
  },
  {
   "cell_type": "code",
   "execution_count": 10,
   "id": "3712d394",
   "metadata": {},
   "outputs": [],
   "source": [
    "def normalization(indata, username):\n",
    "    from sklearn.preprocessing import MinMaxScaler\n",
    "    features = ['tempo', 'loudness']\n",
    "    min_max_scaler = MinMaxScaler()\n",
    "    x = indata[features]\n",
    "    x_scaled = min_max_scaler.fit_transform(x)\n",
    "    df = pd.DataFrame(x_scaled, columns=x.columns)\n",
    "    df[list(indata.drop(features, axis=1).columns)] = indata[list(indata.drop(features, axis=1).columns)]\n",
    "    #indata['tempo', 'loudness']=(df-df.min())/(df.max()-df.min())\n",
    "    print(df.isna().sum())\n",
    "    df.to_csv('{}.csv'.format(username), index=False)"
   ]
  },
  {
   "cell_type": "code",
   "execution_count": 11,
   "id": "f94343c2",
   "metadata": {},
   "outputs": [
    {
     "name": "stdout",
     "output_type": "stream",
     "text": [
      "tempo               0\n",
      "loudness            0\n",
      "energy              0\n",
      "liveness            0\n",
      "speechiness         0\n",
      "acousticness        0\n",
      "instrumentalness    0\n",
      "time_signature      0\n",
      "danceability        0\n",
      "key                 0\n",
      "duration_ms         0\n",
      "valence             0\n",
      "mode                0\n",
      "type                0\n",
      "uri                 0\n",
      "dtype: int64\n"
     ]
    }
   ],
   "source": [
    "normalization(indata=dupA, username='Connie')"
   ]
  },
  {
   "cell_type": "code",
   "execution_count": 12,
   "id": "f9235341",
   "metadata": {},
   "outputs": [
    {
     "name": "stdout",
     "output_type": "stream",
     "text": [
      "tempo               0\n",
      "loudness            0\n",
      "energy              0\n",
      "liveness            0\n",
      "speechiness         0\n",
      "acousticness        0\n",
      "instrumentalness    0\n",
      "time_signature      0\n",
      "danceability        0\n",
      "key                 0\n",
      "duration_ms         0\n",
      "valence             0\n",
      "mode                0\n",
      "type                0\n",
      "uri                 0\n",
      "dtype: int64\n"
     ]
    }
   ],
   "source": [
    "normalization(indata=dupB, username='Cindy')"
   ]
  },
  {
   "cell_type": "code",
   "execution_count": 13,
   "id": "780d64cd",
   "metadata": {},
   "outputs": [
    {
     "data": {
      "text/html": [
       "<div>\n",
       "<style scoped>\n",
       "    .dataframe tbody tr th:only-of-type {\n",
       "        vertical-align: middle;\n",
       "    }\n",
       "\n",
       "    .dataframe tbody tr th {\n",
       "        vertical-align: top;\n",
       "    }\n",
       "\n",
       "    .dataframe thead th {\n",
       "        text-align: right;\n",
       "    }\n",
       "</style>\n",
       "<table border=\"1\" class=\"dataframe\">\n",
       "  <thead>\n",
       "    <tr style=\"text-align: right;\">\n",
       "      <th></th>\n",
       "      <th>tempo</th>\n",
       "      <th>loudness</th>\n",
       "      <th>energy</th>\n",
       "      <th>liveness</th>\n",
       "      <th>speechiness</th>\n",
       "      <th>acousticness</th>\n",
       "      <th>instrumentalness</th>\n",
       "      <th>time_signature</th>\n",
       "      <th>danceability</th>\n",
       "      <th>key</th>\n",
       "      <th>duration_ms</th>\n",
       "      <th>valence</th>\n",
       "      <th>mode</th>\n",
       "      <th>type</th>\n",
       "      <th>uri</th>\n",
       "    </tr>\n",
       "  </thead>\n",
       "  <tbody>\n",
       "    <tr>\n",
       "      <th>0</th>\n",
       "      <td>0.437578</td>\n",
       "      <td>0.905897</td>\n",
       "      <td>0.825</td>\n",
       "      <td>0.0936</td>\n",
       "      <td>0.0325</td>\n",
       "      <td>0.02150</td>\n",
       "      <td>0.000024</td>\n",
       "      <td>4</td>\n",
       "      <td>0.650</td>\n",
       "      <td>0</td>\n",
       "      <td>191014</td>\n",
       "      <td>0.593</td>\n",
       "      <td>1</td>\n",
       "      <td>audio_features</td>\n",
       "      <td>spotify:track:37BZB0z9T8Xu7U3e65qxFy</td>\n",
       "    </tr>\n",
       "    <tr>\n",
       "      <th>1</th>\n",
       "      <td>0.364047</td>\n",
       "      <td>0.915117</td>\n",
       "      <td>0.864</td>\n",
       "      <td>0.0389</td>\n",
       "      <td>0.0652</td>\n",
       "      <td>0.00327</td>\n",
       "      <td>0.000000</td>\n",
       "      <td>4</td>\n",
       "      <td>0.697</td>\n",
       "      <td>10</td>\n",
       "      <td>199013</td>\n",
       "      <td>0.808</td>\n",
       "      <td>1</td>\n",
       "      <td>audio_features</td>\n",
       "      <td>spotify:track:2SIKHGA7vsLF2zUiqjEh4x</td>\n",
       "    </tr>\n",
       "    <tr>\n",
       "      <th>2</th>\n",
       "      <td>0.692400</td>\n",
       "      <td>0.932608</td>\n",
       "      <td>0.715</td>\n",
       "      <td>0.2880</td>\n",
       "      <td>0.0636</td>\n",
       "      <td>0.34700</td>\n",
       "      <td>0.013600</td>\n",
       "      <td>4</td>\n",
       "      <td>0.559</td>\n",
       "      <td>5</td>\n",
       "      <td>198210</td>\n",
       "      <td>0.335</td>\n",
       "      <td>1</td>\n",
       "      <td>audio_features</td>\n",
       "      <td>spotify:track:1FDGTwqfK4mmwFZOd7qn5H</td>\n",
       "    </tr>\n",
       "    <tr>\n",
       "      <th>3</th>\n",
       "      <td>0.589057</td>\n",
       "      <td>0.847450</td>\n",
       "      <td>0.706</td>\n",
       "      <td>0.0640</td>\n",
       "      <td>0.1600</td>\n",
       "      <td>0.22300</td>\n",
       "      <td>0.000280</td>\n",
       "      <td>4</td>\n",
       "      <td>0.766</td>\n",
       "      <td>7</td>\n",
       "      <td>172598</td>\n",
       "      <td>0.766</td>\n",
       "      <td>0</td>\n",
       "      <td>audio_features</td>\n",
       "      <td>spotify:track:18XlJEroUwFo0tLZxscgXE</td>\n",
       "    </tr>\n",
       "    <tr>\n",
       "      <th>4</th>\n",
       "      <td>0.290942</td>\n",
       "      <td>0.869904</td>\n",
       "      <td>0.560</td>\n",
       "      <td>0.1090</td>\n",
       "      <td>0.0288</td>\n",
       "      <td>0.14800</td>\n",
       "      <td>0.000015</td>\n",
       "      <td>4</td>\n",
       "      <td>0.626</td>\n",
       "      <td>0</td>\n",
       "      <td>244005</td>\n",
       "      <td>0.229</td>\n",
       "      <td>0</td>\n",
       "      <td>audio_features</td>\n",
       "      <td>spotify:track:2d1MywHy6FwKdzxFuSJnwl</td>\n",
       "    </tr>\n",
       "  </tbody>\n",
       "</table>\n",
       "</div>"
      ],
      "text/plain": [
       "      tempo  loudness  energy  liveness  speechiness  acousticness  \\\n",
       "0  0.437578  0.905897   0.825    0.0936       0.0325       0.02150   \n",
       "1  0.364047  0.915117   0.864    0.0389       0.0652       0.00327   \n",
       "2  0.692400  0.932608   0.715    0.2880       0.0636       0.34700   \n",
       "3  0.589057  0.847450   0.706    0.0640       0.1600       0.22300   \n",
       "4  0.290942  0.869904   0.560    0.1090       0.0288       0.14800   \n",
       "\n",
       "   instrumentalness  time_signature  danceability  key  duration_ms  valence  \\\n",
       "0          0.000024               4         0.650    0       191014    0.593   \n",
       "1          0.000000               4         0.697   10       199013    0.808   \n",
       "2          0.013600               4         0.559    5       198210    0.335   \n",
       "3          0.000280               4         0.766    7       172598    0.766   \n",
       "4          0.000015               4         0.626    0       244005    0.229   \n",
       "\n",
       "   mode            type                                   uri  \n",
       "0     1  audio_features  spotify:track:37BZB0z9T8Xu7U3e65qxFy  \n",
       "1     1  audio_features  spotify:track:2SIKHGA7vsLF2zUiqjEh4x  \n",
       "2     1  audio_features  spotify:track:1FDGTwqfK4mmwFZOd7qn5H  \n",
       "3     0  audio_features  spotify:track:18XlJEroUwFo0tLZxscgXE  \n",
       "4     0  audio_features  spotify:track:2d1MywHy6FwKdzxFuSJnwl  "
      ]
     },
     "execution_count": 13,
     "metadata": {},
     "output_type": "execute_result"
    }
   ],
   "source": [
    "AA = pd.read_csv('Connie.csv')\n",
    "BB = pd.read_csv('Cindy.csv')\n",
    "AA.head()"
   ]
  },
  {
   "cell_type": "markdown",
   "id": "4b9735f9",
   "metadata": {},
   "source": [
    "### 3. Data visualization"
   ]
  },
  {
   "cell_type": "markdown",
   "id": "0801c8d8",
   "metadata": {},
   "source": [
    "### 3-1. Histograms: a quick view of the distribution of audio features"
   ]
  },
  {
   "cell_type": "code",
   "execution_count": 14,
   "id": "4b277290",
   "metadata": {},
   "outputs": [],
   "source": [
    "var_drop_hist = ['mode', 'key', 'time_signature', 'duration_ms']\n",
    "def audio_feature(df, col, user):\n",
    "    fig,axes = plt.subplots(3,3)\n",
    "    df.drop(var_drop_hist, axis=1).plot.hist(figsize=(15, 10), bins=10, subplots=True, ax=axes, legend=False, color=col)\n",
    "\n",
    "    axes[0,0].set_title('tempo')\n",
    "    axes[0,1].set_title('loudness')\n",
    "    axes[0,2].set_title('energy')\n",
    "    axes[1,0].set_title('liveness')\n",
    "    axes[1,1].set_title('speechiness')\n",
    "    axes[1,2].set_title('acousticness')\n",
    "    axes[2,0].set_title('instrumentalness')\n",
    "    axes[2,1].set_title('danceability')\n",
    "    axes[2,2].set_title('valence')\n",
    "\n",
    "    plt.suptitle('The distributions of audio features in {}\\'s playlist'.format(user))\n",
    "    plt.tight_layout()\n",
    "    plt.show()   "
   ]
  },
  {
   "cell_type": "code",
   "execution_count": 15,
   "id": "36ecf696",
   "metadata": {},
   "outputs": [
    {
     "data": {
      "image/png": "[encoded data removed]",
      "text/plain": [
       "<Figure size 432x288 with 9 Axes>"
      ]
     },
     "metadata": {
      "needs_background": "light"
     },
     "output_type": "display_data"
    },
    {
     "data": {
      "image/png": "[encoded data removed]",
      "text/plain": [
       "<Figure size 432x288 with 9 Axes>"
      ]
     },
     "metadata": {
      "needs_background": "light"
     },
     "output_type": "display_data"
    }
   ],
   "source": [
    "audio_feature(df=AA, col=u'#1f77b4', user='Connie')\n",
    "audio_feature(df=BB, col=u'#2ca02c', user='Cindy')"
   ]
  },
  {
   "cell_type": "markdown",
   "id": "2376eb0d",
   "metadata": {},
   "source": [
    "**Following are the interesting findings after plotting the histogram:**\n",
    "1. The distributions of audio features are skewed, we should check on medians rather than means.\n",
    "2. The distribution of **energy** and **valence** showed a greater difference. Cindy's playlist seemed to contain rather more positive, energetic songs.\n",
    "3. There is also a slightly different in the distribution of **acousticness**."
   ]
  },
  {
   "cell_type": "markdown",
   "id": "999b57e2",
   "metadata": {},
   "source": [
    "### 3-2. Bar plots"
   ]
  },
  {
   "cell_type": "code",
   "execution_count": 16,
   "id": "8416d691",
   "metadata": {},
   "outputs": [],
   "source": [
    "def audio_feature_median(df, col, user):\n",
    "    T = df.drop(var_drop_hist, axis=1).describe().T\n",
    "    T.sort_values(by=['50%'], ascending=False, na_position='first', inplace=True)\n",
    "    x = np.arange(len(T.index))\n",
    "    y = T['50%']\n",
    "    plt.bar(x, y, color=col) # color=['red', 'green', 'blue', 'yellow']\n",
    "    plt.xticks(x, T.index, rotation=320, ha='left') # ha = orizontal alignment, ['left', 'center', 'right']\n",
    "    plt.xlabel('Features')\n",
    "    plt.ylabel('Median')\n",
    "    plt.title('Median of the audio features in {}\\'s playlist'.format(user))\n",
    "    plt.show()"
   ]
  },
  {
   "cell_type": "code",
   "execution_count": 17,
   "id": "682acb56",
   "metadata": {},
   "outputs": [
    {
     "data": {
      "image/png": "[encoded data removed]",
      "text/plain": [
       "<Figure size 432x288 with 1 Axes>"
      ]
     },
     "metadata": {
      "needs_background": "light"
     },
     "output_type": "display_data"
    },
    {
     "data": {
      "image/png": "[encoded data removed]",
      "text/plain": [
       "<Figure size 432x288 with 1 Axes>"
      ]
     },
     "metadata": {
      "needs_background": "light"
     },
     "output_type": "display_data"
    }
   ],
   "source": [
    "audio_feature_median(df=AA, col=u'#1f77b4', user='Connie')\n",
    "audio_feature_median(df=BB, col=u'#2ca02c', user='Cindy')"
   ]
  },
  {
   "cell_type": "markdown",
   "id": "715c9c60",
   "metadata": {},
   "source": [
    "From the above plots we can see that, in general, we both like songs with more vitality!"
   ]
  },
  {
   "cell_type": "code",
   "execution_count": 18,
   "id": "900cba93",
   "metadata": {},
   "outputs": [
    {
     "data": {
      "text/html": [
       "<div>\n",
       "<style scoped>\n",
       "    .dataframe tbody tr th:only-of-type {\n",
       "        vertical-align: middle;\n",
       "    }\n",
       "\n",
       "    .dataframe tbody tr th {\n",
       "        vertical-align: top;\n",
       "    }\n",
       "\n",
       "    .dataframe thead th {\n",
       "        text-align: right;\n",
       "    }\n",
       "</style>\n",
       "<table border=\"1\" class=\"dataframe\">\n",
       "  <thead>\n",
       "    <tr style=\"text-align: right;\">\n",
       "      <th></th>\n",
       "      <th>a_mean</th>\n",
       "      <th>a_std</th>\n",
       "      <th>a_median</th>\n",
       "      <th>b_mean</th>\n",
       "      <th>b_std</th>\n",
       "      <th>b_median</th>\n",
       "    </tr>\n",
       "  </thead>\n",
       "  <tbody>\n",
       "    <tr>\n",
       "      <th>tempo</th>\n",
       "      <td>0.469257</td>\n",
       "      <td>0.177319</td>\n",
       "      <td>0.473218</td>\n",
       "      <td>0.423631</td>\n",
       "      <td>0.178164</td>\n",
       "      <td>0.419601</td>\n",
       "    </tr>\n",
       "    <tr>\n",
       "      <th>loudness</th>\n",
       "      <td>0.825595</td>\n",
       "      <td>0.103804</td>\n",
       "      <td>0.843253</td>\n",
       "      <td>0.821454</td>\n",
       "      <td>0.105359</td>\n",
       "      <td>0.842116</td>\n",
       "    </tr>\n",
       "    <tr>\n",
       "      <th>energy</th>\n",
       "      <td>0.565125</td>\n",
       "      <td>0.200585</td>\n",
       "      <td>0.567000</td>\n",
       "      <td>0.733696</td>\n",
       "      <td>0.200555</td>\n",
       "      <td>0.788000</td>\n",
       "    </tr>\n",
       "    <tr>\n",
       "      <th>liveness</th>\n",
       "      <td>0.162255</td>\n",
       "      <td>0.121400</td>\n",
       "      <td>0.116000</td>\n",
       "      <td>0.187419</td>\n",
       "      <td>0.136204</td>\n",
       "      <td>0.134000</td>\n",
       "    </tr>\n",
       "    <tr>\n",
       "      <th>speechiness</th>\n",
       "      <td>0.052862</td>\n",
       "      <td>0.046102</td>\n",
       "      <td>0.037800</td>\n",
       "      <td>0.066931</td>\n",
       "      <td>0.052493</td>\n",
       "      <td>0.048600</td>\n",
       "    </tr>\n",
       "    <tr>\n",
       "      <th>acousticness</th>\n",
       "      <td>0.374275</td>\n",
       "      <td>0.304508</td>\n",
       "      <td>0.309000</td>\n",
       "      <td>0.201912</td>\n",
       "      <td>0.252685</td>\n",
       "      <td>0.091300</td>\n",
       "    </tr>\n",
       "    <tr>\n",
       "      <th>instrumentalness</th>\n",
       "      <td>0.019927</td>\n",
       "      <td>0.118239</td>\n",
       "      <td>0.000000</td>\n",
       "      <td>0.046328</td>\n",
       "      <td>0.174015</td>\n",
       "      <td>0.000003</td>\n",
       "    </tr>\n",
       "    <tr>\n",
       "      <th>danceability</th>\n",
       "      <td>0.578889</td>\n",
       "      <td>0.138681</td>\n",
       "      <td>0.573000</td>\n",
       "      <td>0.572694</td>\n",
       "      <td>0.132287</td>\n",
       "      <td>0.579000</td>\n",
       "    </tr>\n",
       "    <tr>\n",
       "      <th>valence</th>\n",
       "      <td>0.417384</td>\n",
       "      <td>0.207114</td>\n",
       "      <td>0.383000</td>\n",
       "      <td>0.521602</td>\n",
       "      <td>0.226527</td>\n",
       "      <td>0.522000</td>\n",
       "    </tr>\n",
       "  </tbody>\n",
       "</table>\n",
       "</div>"
      ],
      "text/plain": [
       "                    a_mean     a_std  a_median    b_mean     b_std  b_median\n",
       "tempo             0.469257  0.177319  0.473218  0.423631  0.178164  0.419601\n",
       "loudness          0.825595  0.103804  0.843253  0.821454  0.105359  0.842116\n",
       "energy            0.565125  0.200585  0.567000  0.733696  0.200555  0.788000\n",
       "liveness          0.162255  0.121400  0.116000  0.187419  0.136204  0.134000\n",
       "speechiness       0.052862  0.046102  0.037800  0.066931  0.052493  0.048600\n",
       "acousticness      0.374275  0.304508  0.309000  0.201912  0.252685  0.091300\n",
       "instrumentalness  0.019927  0.118239  0.000000  0.046328  0.174015  0.000003\n",
       "danceability      0.578889  0.138681  0.573000  0.572694  0.132287  0.579000\n",
       "valence           0.417384  0.207114  0.383000  0.521602  0.226527  0.522000"
      ]
     },
     "execution_count": 18,
     "metadata": {},
     "output_type": "execute_result"
    }
   ],
   "source": [
    "# Difference between audio features median\n",
    "A_sum = AA.drop(var_drop_hist, axis=1).describe().T.rename(columns={'50%':'median'}).drop(['count', 'min', '25%', '75%', 'max'], axis=1)\n",
    "A_sum.columns = ['a_' + str(col) for col in A_sum.columns]\n",
    "\n",
    "B_sum = BB.drop(var_drop_hist, axis=1).describe().T.rename(columns={'50%':'median'}).drop(['count', 'min', '25%', '75%', 'max'], axis=1)\n",
    "B_sum.columns = ['b_' + str(col) for col in B_sum.columns]\n",
    "\n",
    "# Place the DataFrames side by side\n",
    "SUM = pd.concat([A_sum, B_sum], axis=1)\n",
    "SUM"
   ]
  },
  {
   "cell_type": "code",
   "execution_count": 19,
   "id": "db2516c2",
   "metadata": {},
   "outputs": [
    {
     "data": {
      "text/html": [
       "<div>\n",
       "<style scoped>\n",
       "    .dataframe tbody tr th:only-of-type {\n",
       "        vertical-align: middle;\n",
       "    }\n",
       "\n",
       "    .dataframe tbody tr th {\n",
       "        vertical-align: top;\n",
       "    }\n",
       "\n",
       "    .dataframe thead th {\n",
       "        text-align: right;\n",
       "    }\n",
       "</style>\n",
       "<table border=\"1\" class=\"dataframe\">\n",
       "  <thead>\n",
       "    <tr style=\"text-align: right;\">\n",
       "      <th></th>\n",
       "      <th>a_mean</th>\n",
       "      <th>a_std</th>\n",
       "      <th>a_median</th>\n",
       "      <th>b_mean</th>\n",
       "      <th>b_std</th>\n",
       "      <th>b_median</th>\n",
       "      <th>D_ab</th>\n",
       "    </tr>\n",
       "  </thead>\n",
       "  <tbody>\n",
       "    <tr>\n",
       "      <th>tempo</th>\n",
       "      <td>0.469257</td>\n",
       "      <td>0.177319</td>\n",
       "      <td>0.473218</td>\n",
       "      <td>0.423631</td>\n",
       "      <td>0.178164</td>\n",
       "      <td>0.419601</td>\n",
       "      <td>0.053618</td>\n",
       "    </tr>\n",
       "    <tr>\n",
       "      <th>loudness</th>\n",
       "      <td>0.825595</td>\n",
       "      <td>0.103804</td>\n",
       "      <td>0.843253</td>\n",
       "      <td>0.821454</td>\n",
       "      <td>0.105359</td>\n",
       "      <td>0.842116</td>\n",
       "      <td>0.001138</td>\n",
       "    </tr>\n",
       "    <tr>\n",
       "      <th>energy</th>\n",
       "      <td>0.565125</td>\n",
       "      <td>0.200585</td>\n",
       "      <td>0.567000</td>\n",
       "      <td>0.733696</td>\n",
       "      <td>0.200555</td>\n",
       "      <td>0.788000</td>\n",
       "      <td>-0.221000</td>\n",
       "    </tr>\n",
       "    <tr>\n",
       "      <th>liveness</th>\n",
       "      <td>0.162255</td>\n",
       "      <td>0.121400</td>\n",
       "      <td>0.116000</td>\n",
       "      <td>0.187419</td>\n",
       "      <td>0.136204</td>\n",
       "      <td>0.134000</td>\n",
       "      <td>-0.018000</td>\n",
       "    </tr>\n",
       "    <tr>\n",
       "      <th>speechiness</th>\n",
       "      <td>0.052862</td>\n",
       "      <td>0.046102</td>\n",
       "      <td>0.037800</td>\n",
       "      <td>0.066931</td>\n",
       "      <td>0.052493</td>\n",
       "      <td>0.048600</td>\n",
       "      <td>-0.010800</td>\n",
       "    </tr>\n",
       "    <tr>\n",
       "      <th>acousticness</th>\n",
       "      <td>0.374275</td>\n",
       "      <td>0.304508</td>\n",
       "      <td>0.309000</td>\n",
       "      <td>0.201912</td>\n",
       "      <td>0.252685</td>\n",
       "      <td>0.091300</td>\n",
       "      <td>0.217700</td>\n",
       "    </tr>\n",
       "    <tr>\n",
       "      <th>instrumentalness</th>\n",
       "      <td>0.019927</td>\n",
       "      <td>0.118239</td>\n",
       "      <td>0.000000</td>\n",
       "      <td>0.046328</td>\n",
       "      <td>0.174015</td>\n",
       "      <td>0.000003</td>\n",
       "      <td>-0.000003</td>\n",
       "    </tr>\n",
       "    <tr>\n",
       "      <th>danceability</th>\n",
       "      <td>0.578889</td>\n",
       "      <td>0.138681</td>\n",
       "      <td>0.573000</td>\n",
       "      <td>0.572694</td>\n",
       "      <td>0.132287</td>\n",
       "      <td>0.579000</td>\n",
       "      <td>-0.006000</td>\n",
       "    </tr>\n",
       "    <tr>\n",
       "      <th>valence</th>\n",
       "      <td>0.417384</td>\n",
       "      <td>0.207114</td>\n",
       "      <td>0.383000</td>\n",
       "      <td>0.521602</td>\n",
       "      <td>0.226527</td>\n",
       "      <td>0.522000</td>\n",
       "      <td>-0.139000</td>\n",
       "    </tr>\n",
       "  </tbody>\n",
       "</table>\n",
       "</div>"
      ],
      "text/plain": [
       "                    a_mean     a_std  a_median    b_mean     b_std  b_median  \\\n",
       "tempo             0.469257  0.177319  0.473218  0.423631  0.178164  0.419601   \n",
       "loudness          0.825595  0.103804  0.843253  0.821454  0.105359  0.842116   \n",
       "energy            0.565125  0.200585  0.567000  0.733696  0.200555  0.788000   \n",
       "liveness          0.162255  0.121400  0.116000  0.187419  0.136204  0.134000   \n",
       "speechiness       0.052862  0.046102  0.037800  0.066931  0.052493  0.048600   \n",
       "acousticness      0.374275  0.304508  0.309000  0.201912  0.252685  0.091300   \n",
       "instrumentalness  0.019927  0.118239  0.000000  0.046328  0.174015  0.000003   \n",
       "danceability      0.578889  0.138681  0.573000  0.572694  0.132287  0.579000   \n",
       "valence           0.417384  0.207114  0.383000  0.521602  0.226527  0.522000   \n",
       "\n",
       "                      D_ab  \n",
       "tempo             0.053618  \n",
       "loudness          0.001138  \n",
       "energy           -0.221000  \n",
       "liveness         -0.018000  \n",
       "speechiness      -0.010800  \n",
       "acousticness      0.217700  \n",
       "instrumentalness -0.000003  \n",
       "danceability     -0.006000  \n",
       "valence          -0.139000  "
      ]
     },
     "execution_count": 19,
     "metadata": {},
     "output_type": "execute_result"
    }
   ],
   "source": [
    "# Difference between audio features median\n",
    "SUM['D_ab'] = SUM['a_median'] - SUM['b_median']\n",
    "SUM"
   ]
  },
  {
   "cell_type": "code",
   "execution_count": 20,
   "id": "c262593f",
   "metadata": {},
   "outputs": [
    {
     "data": {
      "image/png": "[encoded data removed]",
      "text/plain": [
       "<Figure size 432x288 with 1 Axes>"
      ]
     },
     "metadata": {
      "needs_background": "light"
     },
     "output_type": "display_data"
    }
   ],
   "source": [
    "user1 = 'Connie'\n",
    "user2 = 'Cindy'\n",
    "\n",
    "# User1 - User2\n",
    "SUM.sort_values(by=['D_ab'], ascending=False, na_position='first', inplace=True)\n",
    "x = np.arange(len(SUM.index))\n",
    "y = SUM['D_ab']\n",
    "plt.bar(x, y, color=u'#17becf')\n",
    "plt.xticks(x, SUM.index, rotation=320, ha='left')\n",
    "plt.xlabel('Features')\n",
    "plt.ylabel('Difference')\n",
    "plt.title('Difference between audio features median of {}\\'s and {}\\'s playlist'.format(user1, user2))\n",
    "plt.show()"
   ]
  },
  {
   "cell_type": "markdown",
   "id": "e77b0569",
   "metadata": {},
   "source": [
    "The results in the above figure are consistent with our observations in the histogram."
   ]
  },
  {
   "cell_type": "code",
   "execution_count": 21,
   "id": "ae56ecf4",
   "metadata": {},
   "outputs": [],
   "source": [
    "# How varied is the playlist?\n",
    "def audio_feature_sd(df, col, user):\n",
    "    T = df.drop(var_drop_hist, axis=1).describe().T\n",
    "    T.sort_values(by=['std'], ascending=False, na_position='first', inplace=True)\n",
    "    x = np.arange(len(T.index))\n",
    "    y = T['std']\n",
    "    plt.bar(x, y, color=col)\n",
    "    plt.xticks(x, T.index, rotation=320, ha='left')\n",
    "    plt.xlabel('Features')\n",
    "    plt.ylabel('Standard deviation')\n",
    "    plt.title('Standard deviation of the audio features in {}\\'s playlist'.format(user))\n",
    "    plt.show()"
   ]
  },
  {
   "cell_type": "code",
   "execution_count": 22,
   "id": "28c82fe3",
   "metadata": {},
   "outputs": [
    {
     "data": {
      "image/png": "[encoded data removed]",
      "text/plain": [
       "<Figure size 432x288 with 1 Axes>"
      ]
     },
     "metadata": {
      "needs_background": "light"
     },
     "output_type": "display_data"
    },
    {
     "data": {
      "image/png": "[encoded data removed]",
      "text/plain": [
       "<Figure size 432x288 with 1 Axes>"
      ]
     },
     "metadata": {
      "needs_background": "light"
     },
     "output_type": "display_data"
    }
   ],
   "source": [
    "audio_feature_sd(df=AA, col=u'#1f77b4', user='Connie')\n",
    "audio_feature_sd(df=BB, col=u'#2ca02c', user='Cindy')"
   ]
  },
  {
   "cell_type": "code",
   "execution_count": 23,
   "id": "cb760273",
   "metadata": {},
   "outputs": [],
   "source": [
    "# key & mode should be categorical data\n",
    "AA[['key','mode']] = AA[['key','mode']].astype('object')\n",
    "BB[['key','mode']] = BB[['key','mode']].astype('object')"
   ]
  },
  {
   "cell_type": "code",
   "execution_count": 24,
   "id": "00c2fc04",
   "metadata": {},
   "outputs": [
    {
     "data": {
      "text/plain": [
       "Index(['key', 'mode', 'type', 'uri'], dtype='object')"
      ]
     },
     "execution_count": 24,
     "metadata": {},
     "output_type": "execute_result"
    }
   ],
   "source": [
    "AA.select_dtypes(include=object).columns"
   ]
  },
  {
   "cell_type": "code",
   "execution_count": 25,
   "id": "7a634f22",
   "metadata": {},
   "outputs": [],
   "source": [
    "def bar_plot(df, var, col, user):\n",
    "    variable = var\n",
    "    cnt = pd.DataFrame(df[var].value_counts()).sort_index()\n",
    "    fig, ax = plt.subplots()\n",
    "    ax.bar(cnt.index, cnt[var], color=col)\n",
    "    ax.set_xticks(cnt.index)\n",
    "    ax.set(title='Distribution of the {} in {}\\'s playlist'.format(variable, user), ylabel='counts');"
   ]
  },
  {
   "cell_type": "code",
   "execution_count": 26,
   "id": "3de6fbb5",
   "metadata": {},
   "outputs": [
    {
     "data": {
      "image/png": "[encoded data removed]",
      "text/plain": [
       "<Figure size 432x288 with 1 Axes>"
      ]
     },
     "metadata": {
      "needs_background": "light"
     },
     "output_type": "display_data"
    },
    {
     "data": {
      "image/png": "[encoded data removed]",
      "text/plain": [
       "<Figure size 432x288 with 1 Axes>"
      ]
     },
     "metadata": {
      "needs_background": "light"
     },
     "output_type": "display_data"
    }
   ],
   "source": [
    "# Key: 0:C, 1:C#, 2:D, ..., 11:B\n",
    "bar_plot(df=AA, var='key', col=u'#1f77b4', user='Connie')\n",
    "bar_plot(df=BB, var='key', col=u'#2ca02c', user='Cindy')"
   ]
  },
  {
   "cell_type": "code",
   "execution_count": 27,
   "id": "dc96e140",
   "metadata": {},
   "outputs": [
    {
     "data": {
      "image/png": "[encoded data removed]",
      "text/plain": [
       "<Figure size 432x288 with 1 Axes>"
      ]
     },
     "metadata": {
      "needs_background": "light"
     },
     "output_type": "display_data"
    },
    {
     "data": {
      "image/png": "[encoded data removed]",
      "text/plain": [
       "<Figure size 432x288 with 1 Axes>"
      ]
     },
     "metadata": {
      "needs_background": "light"
     },
     "output_type": "display_data"
    }
   ],
   "source": [
    "bar_plot(df=AA, var='mode', col=u'#1f77b4', user='Connie')\n",
    "bar_plot(df=BB, var='mode', col=u'#2ca02c', user='Cindy')"
   ]
  },
  {
   "cell_type": "markdown",
   "id": "d5e08404",
   "metadata": {},
   "source": [
    "### 4. Find repeated songs in both playlists"
   ]
  },
  {
   "cell_type": "code",
   "execution_count": 28,
   "id": "f0920932",
   "metadata": {},
   "outputs": [
    {
     "data": {
      "text/html": [
       "<div>\n",
       "<style scoped>\n",
       "    .dataframe tbody tr th:only-of-type {\n",
       "        vertical-align: middle;\n",
       "    }\n",
       "\n",
       "    .dataframe tbody tr th {\n",
       "        vertical-align: top;\n",
       "    }\n",
       "\n",
       "    .dataframe thead th {\n",
       "        text-align: right;\n",
       "    }\n",
       "</style>\n",
       "<table border=\"1\" class=\"dataframe\">\n",
       "  <thead>\n",
       "    <tr style=\"text-align: right;\">\n",
       "      <th></th>\n",
       "      <th>tempo</th>\n",
       "      <th>loudness</th>\n",
       "      <th>energy</th>\n",
       "      <th>liveness</th>\n",
       "      <th>speechiness</th>\n",
       "      <th>acousticness</th>\n",
       "      <th>instrumentalness</th>\n",
       "      <th>time_signature</th>\n",
       "      <th>danceability</th>\n",
       "      <th>key</th>\n",
       "      <th>duration_ms</th>\n",
       "      <th>valence</th>\n",
       "      <th>mode</th>\n",
       "      <th>type</th>\n",
       "      <th>uri</th>\n",
       "    </tr>\n",
       "  </thead>\n",
       "  <tbody>\n",
       "    <tr>\n",
       "      <th>1284</th>\n",
       "      <td>0.596122</td>\n",
       "      <td>0.770959</td>\n",
       "      <td>0.406</td>\n",
       "      <td>0.0710</td>\n",
       "      <td>0.0321</td>\n",
       "      <td>0.40200</td>\n",
       "      <td>0.000022</td>\n",
       "      <td>4</td>\n",
       "      <td>0.568</td>\n",
       "      <td>0</td>\n",
       "      <td>295333</td>\n",
       "      <td>0.337</td>\n",
       "      <td>1</td>\n",
       "      <td>audio_features</td>\n",
       "      <td>spotify:track:6lT0OjtvS7hhq7eIbytwm1</td>\n",
       "    </tr>\n",
       "    <tr>\n",
       "      <th>1285</th>\n",
       "      <td>0.327976</td>\n",
       "      <td>0.831636</td>\n",
       "      <td>0.848</td>\n",
       "      <td>0.0937</td>\n",
       "      <td>0.0343</td>\n",
       "      <td>0.07290</td>\n",
       "      <td>0.000004</td>\n",
       "      <td>4</td>\n",
       "      <td>0.680</td>\n",
       "      <td>0</td>\n",
       "      <td>317947</td>\n",
       "      <td>0.303</td>\n",
       "      <td>1</td>\n",
       "      <td>audio_features</td>\n",
       "      <td>spotify:track:3Ocobz1vRDS8TKljE0tc2U</td>\n",
       "    </tr>\n",
       "    <tr>\n",
       "      <th>1286</th>\n",
       "      <td>0.260730</td>\n",
       "      <td>0.844120</td>\n",
       "      <td>0.917</td>\n",
       "      <td>0.1140</td>\n",
       "      <td>0.0588</td>\n",
       "      <td>0.00923</td>\n",
       "      <td>0.000010</td>\n",
       "      <td>4</td>\n",
       "      <td>0.653</td>\n",
       "      <td>4</td>\n",
       "      <td>268480</td>\n",
       "      <td>0.627</td>\n",
       "      <td>0</td>\n",
       "      <td>audio_features</td>\n",
       "      <td>spotify:track:4ym75ZIcFGeL83SDozBBHd</td>\n",
       "    </tr>\n",
       "    <tr>\n",
       "      <th>1287</th>\n",
       "      <td>0.431756</td>\n",
       "      <td>0.769842</td>\n",
       "      <td>0.804</td>\n",
       "      <td>0.4140</td>\n",
       "      <td>0.0968</td>\n",
       "      <td>0.00486</td>\n",
       "      <td>0.000028</td>\n",
       "      <td>4</td>\n",
       "      <td>0.552</td>\n",
       "      <td>11</td>\n",
       "      <td>267120</td>\n",
       "      <td>0.543</td>\n",
       "      <td>0</td>\n",
       "      <td>audio_features</td>\n",
       "      <td>spotify:track:6zSXcvXQ8T74fXm72OpSOb</td>\n",
       "    </tr>\n",
       "    <tr>\n",
       "      <th>1288</th>\n",
       "      <td>0.521898</td>\n",
       "      <td>0.730815</td>\n",
       "      <td>0.300</td>\n",
       "      <td>0.0687</td>\n",
       "      <td>0.0291</td>\n",
       "      <td>0.01450</td>\n",
       "      <td>0.000000</td>\n",
       "      <td>4</td>\n",
       "      <td>0.567</td>\n",
       "      <td>11</td>\n",
       "      <td>268333</td>\n",
       "      <td>0.196</td>\n",
       "      <td>0</td>\n",
       "      <td>audio_features</td>\n",
       "      <td>spotify:track:2LYhS0VbCzbE6alAI3Q7Ot</td>\n",
       "    </tr>\n",
       "  </tbody>\n",
       "</table>\n",
       "</div>"
      ],
      "text/plain": [
       "         tempo  loudness  energy  liveness  speechiness  acousticness  \\\n",
       "1284  0.596122  0.770959   0.406    0.0710       0.0321       0.40200   \n",
       "1285  0.327976  0.831636   0.848    0.0937       0.0343       0.07290   \n",
       "1286  0.260730  0.844120   0.917    0.1140       0.0588       0.00923   \n",
       "1287  0.431756  0.769842   0.804    0.4140       0.0968       0.00486   \n",
       "1288  0.521898  0.730815   0.300    0.0687       0.0291       0.01450   \n",
       "\n",
       "      instrumentalness  time_signature  danceability key  duration_ms  \\\n",
       "1284          0.000022               4         0.568   0       295333   \n",
       "1285          0.000004               4         0.680   0       317947   \n",
       "1286          0.000010               4         0.653   4       268480   \n",
       "1287          0.000028               4         0.552  11       267120   \n",
       "1288          0.000000               4         0.567  11       268333   \n",
       "\n",
       "      valence mode            type                                   uri  \n",
       "1284    0.337    1  audio_features  spotify:track:6lT0OjtvS7hhq7eIbytwm1  \n",
       "1285    0.303    1  audio_features  spotify:track:3Ocobz1vRDS8TKljE0tc2U  \n",
       "1286    0.627    0  audio_features  spotify:track:4ym75ZIcFGeL83SDozBBHd  \n",
       "1287    0.543    0  audio_features  spotify:track:6zSXcvXQ8T74fXm72OpSOb  \n",
       "1288    0.196    0  audio_features  spotify:track:2LYhS0VbCzbE6alAI3Q7Ot  "
      ]
     },
     "execution_count": 28,
     "metadata": {},
     "output_type": "execute_result"
    }
   ],
   "source": [
    "# Stack the DataFrames on top of each other\n",
    "data = pd.concat([AA, BB], axis=0)\n",
    "\n",
    "data.tail()"
   ]
  },
  {
   "cell_type": "code",
   "execution_count": 29,
   "id": "4d2980b7",
   "metadata": {},
   "outputs": [
    {
     "data": {
      "text/plain": [
       "1850"
      ]
     },
     "execution_count": 29,
     "metadata": {},
     "output_type": "execute_result"
    }
   ],
   "source": [
    "len(data)"
   ]
  },
  {
   "cell_type": "code",
   "execution_count": 30,
   "id": "62df04e7",
   "metadata": {},
   "outputs": [
    {
     "data": {
      "text/plain": [
       "25"
      ]
     },
     "execution_count": 30,
     "metadata": {},
     "output_type": "execute_result"
    }
   ],
   "source": [
    "check_dup = pd.DataFrame(data['uri'].value_counts())\n",
    "len(check_dup[check_dup['uri']>1])"
   ]
  },
  {
   "cell_type": "markdown",
   "id": "b5a960ae",
   "metadata": {},
   "source": [
    "There are 25 repeated songs in our playlists."
   ]
  },
  {
   "cell_type": "code",
   "execution_count": 31,
   "id": "d54aea12",
   "metadata": {},
   "outputs": [
    {
     "data": {
      "text/html": [
       "<div>\n",
       "<style scoped>\n",
       "    .dataframe tbody tr th:only-of-type {\n",
       "        vertical-align: middle;\n",
       "    }\n",
       "\n",
       "    .dataframe tbody tr th {\n",
       "        vertical-align: top;\n",
       "    }\n",
       "\n",
       "    .dataframe thead th {\n",
       "        text-align: right;\n",
       "    }\n",
       "</style>\n",
       "<table border=\"1\" class=\"dataframe\">\n",
       "  <thead>\n",
       "    <tr style=\"text-align: right;\">\n",
       "      <th></th>\n",
       "      <th>uri</th>\n",
       "    </tr>\n",
       "  </thead>\n",
       "  <tbody>\n",
       "    <tr>\n",
       "      <th>spotify:track:1ZLrDPgR7mvuTco3rQK8Pk</th>\n",
       "      <td>2</td>\n",
       "    </tr>\n",
       "    <tr>\n",
       "      <th>spotify:track:6u4QtlkKJ879ElNlgw0R7M</th>\n",
       "      <td>2</td>\n",
       "    </tr>\n",
       "    <tr>\n",
       "      <th>spotify:track:0KWnRv3wxjltYVB3MqjNd2</th>\n",
       "      <td>2</td>\n",
       "    </tr>\n",
       "    <tr>\n",
       "      <th>spotify:track:76cy1WJvNGJTj78UqeA5zr</th>\n",
       "      <td>2</td>\n",
       "    </tr>\n",
       "    <tr>\n",
       "      <th>spotify:track:3CEkc8f1UDvI7kohz3ARpA</th>\n",
       "      <td>2</td>\n",
       "    </tr>\n",
       "    <tr>\n",
       "      <th>spotify:track:4wbiyZ6AsynnSNacGXmlvD</th>\n",
       "      <td>2</td>\n",
       "    </tr>\n",
       "    <tr>\n",
       "      <th>spotify:track:2h5j6lshsRkShTQ527SOlj</th>\n",
       "      <td>2</td>\n",
       "    </tr>\n",
       "    <tr>\n",
       "      <th>spotify:track:37sINbJZcFdHFAsVNsPq1i</th>\n",
       "      <td>2</td>\n",
       "    </tr>\n",
       "    <tr>\n",
       "      <th>spotify:track:4vUmTMuQqjdnvlZmAH61Qk</th>\n",
       "      <td>2</td>\n",
       "    </tr>\n",
       "    <tr>\n",
       "      <th>spotify:track:24nK8tW7Pt3Inh2utttuoG</th>\n",
       "      <td>2</td>\n",
       "    </tr>\n",
       "    <tr>\n",
       "      <th>spotify:track:1kPpge9JDLpcj15qgrPbYX</th>\n",
       "      <td>2</td>\n",
       "    </tr>\n",
       "    <tr>\n",
       "      <th>spotify:track:1JRK7srBWUtAW7dPabKBwJ</th>\n",
       "      <td>2</td>\n",
       "    </tr>\n",
       "    <tr>\n",
       "      <th>spotify:track:1rjUBUTswCkN8DIBxkgjJs</th>\n",
       "      <td>2</td>\n",
       "    </tr>\n",
       "    <tr>\n",
       "      <th>spotify:track:0pqnGHJpmpxLKifKRmU6WP</th>\n",
       "      <td>2</td>\n",
       "    </tr>\n",
       "    <tr>\n",
       "      <th>spotify:track:4fJlSLYLiu5trFCMZdSQDC</th>\n",
       "      <td>2</td>\n",
       "    </tr>\n",
       "    <tr>\n",
       "      <th>spotify:track:3xlXKL6CnMwPgvzJToFeQO</th>\n",
       "      <td>2</td>\n",
       "    </tr>\n",
       "    <tr>\n",
       "      <th>spotify:track:6X6MH45gqDZMF3CwGpNR2o</th>\n",
       "      <td>2</td>\n",
       "    </tr>\n",
       "    <tr>\n",
       "      <th>spotify:track:2d1MywHy6FwKdzxFuSJnwl</th>\n",
       "      <td>2</td>\n",
       "    </tr>\n",
       "    <tr>\n",
       "      <th>spotify:track:2Fxmhks0bxGSBdJ92vM42m</th>\n",
       "      <td>2</td>\n",
       "    </tr>\n",
       "    <tr>\n",
       "      <th>spotify:track:5KawlOMHjWeUjQtnuRs22c</th>\n",
       "      <td>2</td>\n",
       "    </tr>\n",
       "    <tr>\n",
       "      <th>spotify:track:15JINEqzVMv3SvJTAXAKED</th>\n",
       "      <td>2</td>\n",
       "    </tr>\n",
       "    <tr>\n",
       "      <th>spotify:track:2uHMTG5xr9Xk7MrXIWrVUH</th>\n",
       "      <td>2</td>\n",
       "    </tr>\n",
       "    <tr>\n",
       "      <th>spotify:track:3OC84eKMxRJ4x0Hcwl9i4i</th>\n",
       "      <td>2</td>\n",
       "    </tr>\n",
       "    <tr>\n",
       "      <th>spotify:track:1I0wNk30nKoyFgs1hVIi3C</th>\n",
       "      <td>2</td>\n",
       "    </tr>\n",
       "    <tr>\n",
       "      <th>spotify:track:5rmEOJzLZh5zyKYUVDz36I</th>\n",
       "      <td>2</td>\n",
       "    </tr>\n",
       "  </tbody>\n",
       "</table>\n",
       "</div>"
      ],
      "text/plain": [
       "                                      uri\n",
       "spotify:track:1ZLrDPgR7mvuTco3rQK8Pk    2\n",
       "spotify:track:6u4QtlkKJ879ElNlgw0R7M    2\n",
       "spotify:track:0KWnRv3wxjltYVB3MqjNd2    2\n",
       "spotify:track:76cy1WJvNGJTj78UqeA5zr    2\n",
       "spotify:track:3CEkc8f1UDvI7kohz3ARpA    2\n",
       "spotify:track:4wbiyZ6AsynnSNacGXmlvD    2\n",
       "spotify:track:2h5j6lshsRkShTQ527SOlj    2\n",
       "spotify:track:37sINbJZcFdHFAsVNsPq1i    2\n",
       "spotify:track:4vUmTMuQqjdnvlZmAH61Qk    2\n",
       "spotify:track:24nK8tW7Pt3Inh2utttuoG    2\n",
       "spotify:track:1kPpge9JDLpcj15qgrPbYX    2\n",
       "spotify:track:1JRK7srBWUtAW7dPabKBwJ    2\n",
       "spotify:track:1rjUBUTswCkN8DIBxkgjJs    2\n",
       "spotify:track:0pqnGHJpmpxLKifKRmU6WP    2\n",
       "spotify:track:4fJlSLYLiu5trFCMZdSQDC    2\n",
       "spotify:track:3xlXKL6CnMwPgvzJToFeQO    2\n",
       "spotify:track:6X6MH45gqDZMF3CwGpNR2o    2\n",
       "spotify:track:2d1MywHy6FwKdzxFuSJnwl    2\n",
       "spotify:track:2Fxmhks0bxGSBdJ92vM42m    2\n",
       "spotify:track:5KawlOMHjWeUjQtnuRs22c    2\n",
       "spotify:track:15JINEqzVMv3SvJTAXAKED    2\n",
       "spotify:track:2uHMTG5xr9Xk7MrXIWrVUH    2\n",
       "spotify:track:3OC84eKMxRJ4x0Hcwl9i4i    2\n",
       "spotify:track:1I0wNk30nKoyFgs1hVIi3C    2\n",
       "spotify:track:5rmEOJzLZh5zyKYUVDz36I    2"
      ]
     },
     "execution_count": 31,
     "metadata": {},
     "output_type": "execute_result"
    }
   ],
   "source": [
    "# List the uri of the 25 duplicated songs\n",
    "check_dup[check_dup['uri']>1]"
   ]
  },
  {
   "cell_type": "markdown",
   "id": "647f5dd0",
   "metadata": {},
   "source": [
    "### 5. Correlation between each variables"
   ]
  },
  {
   "cell_type": "code",
   "execution_count": 32,
   "id": "fa103255",
   "metadata": {},
   "outputs": [
    {
     "data": {
      "text/html": [
       "<div>\n",
       "<style scoped>\n",
       "    .dataframe tbody tr th:only-of-type {\n",
       "        vertical-align: middle;\n",
       "    }\n",
       "\n",
       "    .dataframe tbody tr th {\n",
       "        vertical-align: top;\n",
       "    }\n",
       "\n",
       "    .dataframe thead th {\n",
       "        text-align: right;\n",
       "    }\n",
       "</style>\n",
       "<table border=\"1\" class=\"dataframe\">\n",
       "  <thead>\n",
       "    <tr style=\"text-align: right;\">\n",
       "      <th></th>\n",
       "      <th>tempo</th>\n",
       "      <th>loudness</th>\n",
       "      <th>energy</th>\n",
       "      <th>liveness</th>\n",
       "      <th>speechiness</th>\n",
       "      <th>acousticness</th>\n",
       "      <th>instrumentalness</th>\n",
       "      <th>danceability</th>\n",
       "      <th>valence</th>\n",
       "    </tr>\n",
       "  </thead>\n",
       "  <tbody>\n",
       "    <tr>\n",
       "      <th>tempo</th>\n",
       "      <td>1.000000</td>\n",
       "      <td>0.078656</td>\n",
       "      <td>0.059193</td>\n",
       "      <td>0.032727</td>\n",
       "      <td>0.083276</td>\n",
       "      <td>-0.047520</td>\n",
       "      <td>-0.019643</td>\n",
       "      <td>-0.182620</td>\n",
       "      <td>0.045351</td>\n",
       "    </tr>\n",
       "    <tr>\n",
       "      <th>loudness</th>\n",
       "      <td>0.078656</td>\n",
       "      <td>1.000000</td>\n",
       "      <td>0.721606</td>\n",
       "      <td>0.092915</td>\n",
       "      <td>0.137329</td>\n",
       "      <td>-0.563459</td>\n",
       "      <td>-0.479365</td>\n",
       "      <td>0.195452</td>\n",
       "      <td>0.384984</td>\n",
       "    </tr>\n",
       "    <tr>\n",
       "      <th>energy</th>\n",
       "      <td>0.059193</td>\n",
       "      <td>0.721606</td>\n",
       "      <td>1.000000</td>\n",
       "      <td>0.168033</td>\n",
       "      <td>0.276861</td>\n",
       "      <td>-0.741513</td>\n",
       "      <td>-0.250443</td>\n",
       "      <td>0.104838</td>\n",
       "      <td>0.502988</td>\n",
       "    </tr>\n",
       "    <tr>\n",
       "      <th>liveness</th>\n",
       "      <td>0.032727</td>\n",
       "      <td>0.092915</td>\n",
       "      <td>0.168033</td>\n",
       "      <td>1.000000</td>\n",
       "      <td>0.079873</td>\n",
       "      <td>-0.107203</td>\n",
       "      <td>-0.042769</td>\n",
       "      <td>-0.072364</td>\n",
       "      <td>0.040320</td>\n",
       "    </tr>\n",
       "    <tr>\n",
       "      <th>speechiness</th>\n",
       "      <td>0.083276</td>\n",
       "      <td>0.137329</td>\n",
       "      <td>0.276861</td>\n",
       "      <td>0.079873</td>\n",
       "      <td>1.000000</td>\n",
       "      <td>-0.177658</td>\n",
       "      <td>-0.043204</td>\n",
       "      <td>0.008241</td>\n",
       "      <td>0.134062</td>\n",
       "    </tr>\n",
       "    <tr>\n",
       "      <th>acousticness</th>\n",
       "      <td>-0.047520</td>\n",
       "      <td>-0.563459</td>\n",
       "      <td>-0.741513</td>\n",
       "      <td>-0.107203</td>\n",
       "      <td>-0.177658</td>\n",
       "      <td>1.000000</td>\n",
       "      <td>0.254931</td>\n",
       "      <td>-0.108639</td>\n",
       "      <td>-0.348223</td>\n",
       "    </tr>\n",
       "    <tr>\n",
       "      <th>instrumentalness</th>\n",
       "      <td>-0.019643</td>\n",
       "      <td>-0.479365</td>\n",
       "      <td>-0.250443</td>\n",
       "      <td>-0.042769</td>\n",
       "      <td>-0.043204</td>\n",
       "      <td>0.254931</td>\n",
       "      <td>1.000000</td>\n",
       "      <td>-0.140213</td>\n",
       "      <td>-0.119381</td>\n",
       "    </tr>\n",
       "    <tr>\n",
       "      <th>danceability</th>\n",
       "      <td>-0.182620</td>\n",
       "      <td>0.195452</td>\n",
       "      <td>0.104838</td>\n",
       "      <td>-0.072364</td>\n",
       "      <td>0.008241</td>\n",
       "      <td>-0.108639</td>\n",
       "      <td>-0.140213</td>\n",
       "      <td>1.000000</td>\n",
       "      <td>0.448250</td>\n",
       "    </tr>\n",
       "    <tr>\n",
       "      <th>valence</th>\n",
       "      <td>0.045351</td>\n",
       "      <td>0.384984</td>\n",
       "      <td>0.502988</td>\n",
       "      <td>0.040320</td>\n",
       "      <td>0.134062</td>\n",
       "      <td>-0.348223</td>\n",
       "      <td>-0.119381</td>\n",
       "      <td>0.448250</td>\n",
       "      <td>1.000000</td>\n",
       "    </tr>\n",
       "  </tbody>\n",
       "</table>\n",
       "</div>"
      ],
      "text/plain": [
       "                     tempo  loudness    energy  liveness  speechiness  \\\n",
       "tempo             1.000000  0.078656  0.059193  0.032727     0.083276   \n",
       "loudness          0.078656  1.000000  0.721606  0.092915     0.137329   \n",
       "energy            0.059193  0.721606  1.000000  0.168033     0.276861   \n",
       "liveness          0.032727  0.092915  0.168033  1.000000     0.079873   \n",
       "speechiness       0.083276  0.137329  0.276861  0.079873     1.000000   \n",
       "acousticness     -0.047520 -0.563459 -0.741513 -0.107203    -0.177658   \n",
       "instrumentalness -0.019643 -0.479365 -0.250443 -0.042769    -0.043204   \n",
       "danceability     -0.182620  0.195452  0.104838 -0.072364     0.008241   \n",
       "valence           0.045351  0.384984  0.502988  0.040320     0.134062   \n",
       "\n",
       "                  acousticness  instrumentalness  danceability   valence  \n",
       "tempo                -0.047520         -0.019643     -0.182620  0.045351  \n",
       "loudness             -0.563459         -0.479365      0.195452  0.384984  \n",
       "energy               -0.741513         -0.250443      0.104838  0.502988  \n",
       "liveness             -0.107203         -0.042769     -0.072364  0.040320  \n",
       "speechiness          -0.177658         -0.043204      0.008241  0.134062  \n",
       "acousticness          1.000000          0.254931     -0.108639 -0.348223  \n",
       "instrumentalness      0.254931          1.000000     -0.140213 -0.119381  \n",
       "danceability         -0.108639         -0.140213      1.000000  0.448250  \n",
       "valence              -0.348223         -0.119381      0.448250  1.000000  "
      ]
     },
     "execution_count": 32,
     "metadata": {},
     "output_type": "execute_result"
    }
   ],
   "source": [
    "import seaborn as sns\n",
    "# keep numeric variables\n",
    "numerics = ['int16', 'int32', 'int64', 'float16', 'float32', 'float64']\n",
    "corr = data.select_dtypes(include=numerics).drop(['time_signature', 'duration_ms'], axis=1).corr()\n",
    "corr"
   ]
  },
  {
   "cell_type": "code",
   "execution_count": 33,
   "id": "c7f3ceaf",
   "metadata": {},
   "outputs": [
    {
     "data": {
      "image/png": "[encoded data removed]",
      "text/plain": [
       "<Figure size 432x288 with 2 Axes>"
      ]
     },
     "metadata": {
      "needs_background": "light"
     },
     "output_type": "display_data"
    }
   ],
   "source": [
    "# Heatmap\n",
    "ax = sns.heatmap(\n",
    "    corr, \n",
    "    vmin=-1, vmax=1, center=0,\n",
    "    cmap=sns.diverging_palette(20, 220, n=200), #\"RdBu_r\"\n",
    "    annot=True,\n",
    "    annot_kws={'size':8}\n",
    ")\n",
    "ax.set_xticklabels(\n",
    "    ax.get_xticklabels(),\n",
    "    rotation=330,\n",
    "    horizontalalignment='left'\n",
    ");"
   ]
  },
  {
   "cell_type": "markdown",
   "id": "39856d98",
   "metadata": {},
   "source": [
    "1. **loudness** is highly positively correlated to **energy**.\n",
    "2. **acousticness** is highly negatively correlated to **energy**."
   ]
  }
 ],
 "metadata": {
  "kernelspec": {
   "display_name": "Python 3",
   "language": "python",
   "name": "python3"
  },
  "language_info": {
   "codemirror_mode": {
    "name": "ipython",
    "version": 3
   },
   "file_extension": ".py",
   "mimetype": "text/x-python",
   "name": "python",
   "nbconvert_exporter": "python",
   "pygments_lexer": "ipython3",
   "version": "3.9.1"
  }
 },
 "nbformat": 4,
 "nbformat_minor": 5
}
