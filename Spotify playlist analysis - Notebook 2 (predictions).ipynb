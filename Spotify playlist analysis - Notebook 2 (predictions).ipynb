{
 "cells": [
  {
   "cell_type": "markdown",
   "id": "5ee4a041",
   "metadata": {},
   "source": [
    "## Are the music genres similar between friends? (Part 2)\n",
    "\n",
    "In notebook 2, we'll try to build a model to predict which user a song should belong to, which contains the following steps:\n",
    "\n",
    "1. **Feature engineering** (standardization)\n",
    "2. **Logistic regression** model\n",
    "3. **Random forest** classifier\n",
    "4. **Hyperparameters tuning**\n",
    "5. Conclusions"
   ]
  },
  {
   "cell_type": "markdown",
   "id": "b31aded3",
   "metadata": {},
   "source": [
    "### 1. Feature engineering"
   ]
  },
  {
   "cell_type": "code",
   "execution_count": 1,
   "id": "2fcbaa5b",
   "metadata": {},
   "outputs": [],
   "source": [
    "# Import data\n",
    "import pandas as pd\n",
    "import numpy as np\n",
    "import matplotlib.pyplot as plt\n",
    "%matplotlib inline\n",
    "\n",
    "UserA = pd.read_csv(\"fm12z8ig3mo6s9axre6049m5h-1vgZmbngUv9YFEsz3AB18e.csv\") # Me (Connie)\n",
    "UserB = pd.read_csv(\"21hi7kguws4venzuqvqs4lska-6KeEoUTI2bbmOoK7McTrLF.csv\") # My friend Cindy"
   ]
  },
  {
   "cell_type": "code",
   "execution_count": 2,
   "id": "ebc630e3",
   "metadata": {},
   "outputs": [],
   "source": [
    "# Label: user\n",
    "UserA['user'] = 0 #'Connie'\n",
    "UserB['user'] = 1 #'Cindy'"
   ]
  },
  {
   "cell_type": "code",
   "execution_count": 3,
   "id": "136ac09b",
   "metadata": {},
   "outputs": [
    {
     "data": {
      "text/plain": [
       "1851"
      ]
     },
     "execution_count": 3,
     "metadata": {},
     "output_type": "execute_result"
    }
   ],
   "source": [
    "# Stack the DataFrames on top of each other\n",
    "dup_data = pd.concat([UserA, UserB], axis=0)\n",
    "len(dup_data)"
   ]
  },
  {
   "cell_type": "code",
   "execution_count": 4,
   "id": "c4874a45",
   "metadata": {},
   "outputs": [
    {
     "data": {
      "text/plain": [
       "1850"
      ]
     },
     "execution_count": 4,
     "metadata": {},
     "output_type": "execute_result"
    }
   ],
   "source": [
    "# Drop if the song exists more than once in the same user's playlist (duplicated)\n",
    "_nondup_data = dup_data[dup_data.duplicated(subset=['uri','user'], keep='first')==False]\n",
    "len(_nondup_data)"
   ]
  },
  {
   "cell_type": "code",
   "execution_count": 5,
   "id": "dc801027",
   "metadata": {},
   "outputs": [
    {
     "data": {
      "text/plain": [
       "1800"
      ]
     },
     "execution_count": 5,
     "metadata": {},
     "output_type": "execute_result"
    }
   ],
   "source": [
    "# Drop if the song exists in both playlists (cannot classify which user in this case)\n",
    "nondup_data = _nondup_data[_nondup_data.duplicated(subset='uri', keep=False)==False]\n",
    "nondup_data\n",
    "len(nondup_data)\n",
    "\n",
    "## 25 songs are duplicated"
   ]
  },
  {
   "cell_type": "code",
   "execution_count": 6,
   "id": "75445ed9",
   "metadata": {},
   "outputs": [],
   "source": [
    "# Drop variables with unclear definition or useless in classification\n",
    "data = nondup_data.drop(['time_signature', 'type', 'uri'], axis=1)"
   ]
  },
  {
   "cell_type": "code",
   "execution_count": 7,
   "id": "01574402",
   "metadata": {},
   "outputs": [
    {
     "data": {
      "text/plain": [
       "energy              float64\n",
       "liveness            float64\n",
       "tempo               float64\n",
       "speechiness         float64\n",
       "acousticness        float64\n",
       "instrumentalness    float64\n",
       "danceability        float64\n",
       "key                   int64\n",
       "duration_ms           int64\n",
       "loudness            float64\n",
       "valence             float64\n",
       "mode                  int64\n",
       "user                  int64\n",
       "dtype: object"
      ]
     },
     "execution_count": 7,
     "metadata": {},
     "output_type": "execute_result"
    }
   ],
   "source": [
    "data.dtypes"
   ]
  },
  {
   "cell_type": "code",
   "execution_count": 8,
   "id": "656baf28",
   "metadata": {},
   "outputs": [],
   "source": [
    "# key & mode should be categorical data\n",
    "data[['key','mode']] = data[['key','mode']].astype('object')"
   ]
  },
  {
   "cell_type": "code",
   "execution_count": 9,
   "id": "54d4103d",
   "metadata": {},
   "outputs": [
    {
     "data": {
      "text/plain": [
       "energy              float64\n",
       "liveness            float64\n",
       "tempo               float64\n",
       "speechiness         float64\n",
       "acousticness        float64\n",
       "instrumentalness    float64\n",
       "danceability        float64\n",
       "key                  object\n",
       "duration_ms           int64\n",
       "loudness            float64\n",
       "valence             float64\n",
       "mode                 object\n",
       "user                  int64\n",
       "dtype: object"
      ]
     },
     "execution_count": 9,
     "metadata": {},
     "output_type": "execute_result"
    }
   ],
   "source": [
    "data.dtypes"
   ]
  },
  {
   "cell_type": "code",
   "execution_count": 10,
   "id": "e3bc1718",
   "metadata": {},
   "outputs": [
    {
     "data": {
      "text/html": [
       "<div>\n",
       "<style scoped>\n",
       "    .dataframe tbody tr th:only-of-type {\n",
       "        vertical-align: middle;\n",
       "    }\n",
       "\n",
       "    .dataframe tbody tr th {\n",
       "        vertical-align: top;\n",
       "    }\n",
       "\n",
       "    .dataframe thead th {\n",
       "        text-align: right;\n",
       "    }\n",
       "</style>\n",
       "<table border=\"1\" class=\"dataframe\">\n",
       "  <thead>\n",
       "    <tr style=\"text-align: right;\">\n",
       "      <th></th>\n",
       "      <th>energy</th>\n",
       "      <th>liveness</th>\n",
       "      <th>tempo</th>\n",
       "      <th>speechiness</th>\n",
       "      <th>acousticness</th>\n",
       "      <th>instrumentalness</th>\n",
       "      <th>danceability</th>\n",
       "      <th>duration_ms</th>\n",
       "      <th>loudness</th>\n",
       "      <th>valence</th>\n",
       "      <th>user</th>\n",
       "    </tr>\n",
       "  </thead>\n",
       "  <tbody>\n",
       "    <tr>\n",
       "      <th>count</th>\n",
       "      <td>1800.000000</td>\n",
       "      <td>1800.000000</td>\n",
       "      <td>1800.000000</td>\n",
       "      <td>1800.000000</td>\n",
       "      <td>1800.000000</td>\n",
       "      <td>1800.000000</td>\n",
       "      <td>1800.000000</td>\n",
       "      <td>1800.00000</td>\n",
       "      <td>1800.000000</td>\n",
       "      <td>1800.000000</td>\n",
       "      <td>1800.000000</td>\n",
       "    </tr>\n",
       "    <tr>\n",
       "      <th>mean</th>\n",
       "      <td>0.684230</td>\n",
       "      <td>0.180923</td>\n",
       "      <td>125.147728</td>\n",
       "      <td>0.062147</td>\n",
       "      <td>0.253015</td>\n",
       "      <td>0.039241</td>\n",
       "      <td>0.572481</td>\n",
       "      <td>234737.06000</td>\n",
       "      <td>-6.146296</td>\n",
       "      <td>0.489918</td>\n",
       "      <td>0.702222</td>\n",
       "    </tr>\n",
       "    <tr>\n",
       "      <th>std</th>\n",
       "      <td>0.215285</td>\n",
       "      <td>0.133010</td>\n",
       "      <td>29.315588</td>\n",
       "      <td>0.050013</td>\n",
       "      <td>0.280382</td>\n",
       "      <td>0.161660</td>\n",
       "      <td>0.133929</td>\n",
       "      <td>49559.66298</td>\n",
       "      <td>3.365436</td>\n",
       "      <td>0.226472</td>\n",
       "      <td>0.457408</td>\n",
       "    </tr>\n",
       "    <tr>\n",
       "      <th>min</th>\n",
       "      <td>0.008500</td>\n",
       "      <td>0.017600</td>\n",
       "      <td>46.168000</td>\n",
       "      <td>0.023200</td>\n",
       "      <td>0.000010</td>\n",
       "      <td>0.000000</td>\n",
       "      <td>0.103000</td>\n",
       "      <td>50280.00000</td>\n",
       "      <td>-34.218000</td>\n",
       "      <td>0.030500</td>\n",
       "      <td>0.000000</td>\n",
       "    </tr>\n",
       "    <tr>\n",
       "      <th>25%</th>\n",
       "      <td>0.540750</td>\n",
       "      <td>0.096125</td>\n",
       "      <td>100.065250</td>\n",
       "      <td>0.034000</td>\n",
       "      <td>0.024175</td>\n",
       "      <td>0.000000</td>\n",
       "      <td>0.488750</td>\n",
       "      <td>203545.75000</td>\n",
       "      <td>-7.376000</td>\n",
       "      <td>0.308000</td>\n",
       "      <td>0.000000</td>\n",
       "    </tr>\n",
       "    <tr>\n",
       "      <th>50%</th>\n",
       "      <td>0.726000</td>\n",
       "      <td>0.127000</td>\n",
       "      <td>124.966000</td>\n",
       "      <td>0.044900</td>\n",
       "      <td>0.131000</td>\n",
       "      <td>0.000000</td>\n",
       "      <td>0.575500</td>\n",
       "      <td>231855.00000</td>\n",
       "      <td>-5.462500</td>\n",
       "      <td>0.482000</td>\n",
       "      <td>1.000000</td>\n",
       "    </tr>\n",
       "    <tr>\n",
       "      <th>75%</th>\n",
       "      <td>0.861000</td>\n",
       "      <td>0.247250</td>\n",
       "      <td>142.962500</td>\n",
       "      <td>0.067800</td>\n",
       "      <td>0.404000</td>\n",
       "      <td>0.000152</td>\n",
       "      <td>0.672000</td>\n",
       "      <td>265013.25000</td>\n",
       "      <td>-4.082250</td>\n",
       "      <td>0.661000</td>\n",
       "      <td>1.000000</td>\n",
       "    </tr>\n",
       "    <tr>\n",
       "      <th>max</th>\n",
       "      <td>0.996000</td>\n",
       "      <td>0.971000</td>\n",
       "      <td>220.210000</td>\n",
       "      <td>0.474000</td>\n",
       "      <td>0.995000</td>\n",
       "      <td>0.978000</td>\n",
       "      <td>0.930000</td>\n",
       "      <td>534120.00000</td>\n",
       "      <td>-0.227000</td>\n",
       "      <td>0.982000</td>\n",
       "      <td>1.000000</td>\n",
       "    </tr>\n",
       "  </tbody>\n",
       "</table>\n",
       "</div>"
      ],
      "text/plain": [
       "            energy     liveness        tempo  speechiness  acousticness  \\\n",
       "count  1800.000000  1800.000000  1800.000000  1800.000000   1800.000000   \n",
       "mean      0.684230     0.180923   125.147728     0.062147      0.253015   \n",
       "std       0.215285     0.133010    29.315588     0.050013      0.280382   \n",
       "min       0.008500     0.017600    46.168000     0.023200      0.000010   \n",
       "25%       0.540750     0.096125   100.065250     0.034000      0.024175   \n",
       "50%       0.726000     0.127000   124.966000     0.044900      0.131000   \n",
       "75%       0.861000     0.247250   142.962500     0.067800      0.404000   \n",
       "max       0.996000     0.971000   220.210000     0.474000      0.995000   \n",
       "\n",
       "       instrumentalness  danceability   duration_ms     loudness      valence  \\\n",
       "count       1800.000000   1800.000000    1800.00000  1800.000000  1800.000000   \n",
       "mean           0.039241      0.572481  234737.06000    -6.146296     0.489918   \n",
       "std            0.161660      0.133929   49559.66298     3.365436     0.226472   \n",
       "min            0.000000      0.103000   50280.00000   -34.218000     0.030500   \n",
       "25%            0.000000      0.488750  203545.75000    -7.376000     0.308000   \n",
       "50%            0.000000      0.575500  231855.00000    -5.462500     0.482000   \n",
       "75%            0.000152      0.672000  265013.25000    -4.082250     0.661000   \n",
       "max            0.978000      0.930000  534120.00000    -0.227000     0.982000   \n",
       "\n",
       "              user  \n",
       "count  1800.000000  \n",
       "mean      0.702222  \n",
       "std       0.457408  \n",
       "min       0.000000  \n",
       "25%       0.000000  \n",
       "50%       1.000000  \n",
       "75%       1.000000  \n",
       "max       1.000000  "
      ]
     },
     "execution_count": 10,
     "metadata": {},
     "output_type": "execute_result"
    }
   ],
   "source": [
    "data.describe()"
   ]
  },
  {
   "cell_type": "code",
   "execution_count": 11,
   "id": "2847b508",
   "metadata": {},
   "outputs": [
    {
     "data": {
      "text/plain": [
       "energy              0\n",
       "liveness            0\n",
       "tempo               0\n",
       "speechiness         0\n",
       "acousticness        0\n",
       "instrumentalness    0\n",
       "danceability        0\n",
       "key                 0\n",
       "duration_ms         0\n",
       "loudness            0\n",
       "valence             0\n",
       "mode                0\n",
       "user                0\n",
       "dtype: int64"
      ]
     },
     "execution_count": 11,
     "metadata": {},
     "output_type": "execute_result"
    }
   ],
   "source": [
    "# Check if there is missing data\n",
    "data.isna().sum()"
   ]
  },
  {
   "cell_type": "markdown",
   "id": "aba08aa5",
   "metadata": {},
   "source": [
    "#### ***Be sure to consider dropping the rows with no labels"
   ]
  },
  {
   "cell_type": "code",
   "execution_count": 12,
   "id": "212c0338",
   "metadata": {},
   "outputs": [],
   "source": [
    "# Split into X & y\n",
    "X = data.drop('user', axis=1)\n",
    "y = data['user']"
   ]
  },
  {
   "cell_type": "code",
   "execution_count": 13,
   "id": "edbde43c",
   "metadata": {},
   "outputs": [
    {
     "data": {
      "text/html": [
       "<div>\n",
       "<style scoped>\n",
       "    .dataframe tbody tr th:only-of-type {\n",
       "        vertical-align: middle;\n",
       "    }\n",
       "\n",
       "    .dataframe tbody tr th {\n",
       "        vertical-align: top;\n",
       "    }\n",
       "\n",
       "    .dataframe thead th {\n",
       "        text-align: right;\n",
       "    }\n",
       "</style>\n",
       "<table border=\"1\" class=\"dataframe\">\n",
       "  <thead>\n",
       "    <tr style=\"text-align: right;\">\n",
       "      <th></th>\n",
       "      <th>energy</th>\n",
       "      <th>liveness</th>\n",
       "      <th>tempo</th>\n",
       "      <th>speechiness</th>\n",
       "      <th>acousticness</th>\n",
       "      <th>instrumentalness</th>\n",
       "      <th>danceability</th>\n",
       "      <th>key</th>\n",
       "      <th>duration_ms</th>\n",
       "      <th>loudness</th>\n",
       "      <th>valence</th>\n",
       "      <th>mode</th>\n",
       "    </tr>\n",
       "  </thead>\n",
       "  <tbody>\n",
       "    <tr>\n",
       "      <th>0</th>\n",
       "      <td>0.825</td>\n",
       "      <td>0.0936</td>\n",
       "      <td>118.091</td>\n",
       "      <td>0.0325</td>\n",
       "      <td>0.02150</td>\n",
       "      <td>0.000024</td>\n",
       "      <td>0.650</td>\n",
       "      <td>0</td>\n",
       "      <td>191014</td>\n",
       "      <td>-4.645</td>\n",
       "      <td>0.593</td>\n",
       "      <td>1</td>\n",
       "    </tr>\n",
       "    <tr>\n",
       "      <th>1</th>\n",
       "      <td>0.864</td>\n",
       "      <td>0.0389</td>\n",
       "      <td>106.005</td>\n",
       "      <td>0.0652</td>\n",
       "      <td>0.00327</td>\n",
       "      <td>0.000000</td>\n",
       "      <td>0.697</td>\n",
       "      <td>10</td>\n",
       "      <td>199013</td>\n",
       "      <td>-4.344</td>\n",
       "      <td>0.808</td>\n",
       "      <td>1</td>\n",
       "    </tr>\n",
       "    <tr>\n",
       "      <th>2</th>\n",
       "      <td>0.715</td>\n",
       "      <td>0.2880</td>\n",
       "      <td>159.975</td>\n",
       "      <td>0.0636</td>\n",
       "      <td>0.34700</td>\n",
       "      <td>0.013600</td>\n",
       "      <td>0.559</td>\n",
       "      <td>5</td>\n",
       "      <td>198210</td>\n",
       "      <td>-3.773</td>\n",
       "      <td>0.335</td>\n",
       "      <td>1</td>\n",
       "    </tr>\n",
       "    <tr>\n",
       "      <th>3</th>\n",
       "      <td>0.706</td>\n",
       "      <td>0.0640</td>\n",
       "      <td>142.989</td>\n",
       "      <td>0.1600</td>\n",
       "      <td>0.22300</td>\n",
       "      <td>0.000280</td>\n",
       "      <td>0.766</td>\n",
       "      <td>7</td>\n",
       "      <td>172598</td>\n",
       "      <td>-6.553</td>\n",
       "      <td>0.766</td>\n",
       "      <td>0</td>\n",
       "    </tr>\n",
       "    <tr>\n",
       "      <th>5</th>\n",
       "      <td>0.683</td>\n",
       "      <td>0.1250</td>\n",
       "      <td>108.003</td>\n",
       "      <td>0.0253</td>\n",
       "      <td>0.00382</td>\n",
       "      <td>0.000002</td>\n",
       "      <td>0.610</td>\n",
       "      <td>2</td>\n",
       "      <td>241693</td>\n",
       "      <td>-3.879</td>\n",
       "      <td>0.466</td>\n",
       "      <td>0</td>\n",
       "    </tr>\n",
       "  </tbody>\n",
       "</table>\n",
       "</div>"
      ],
      "text/plain": [
       "   energy  liveness    tempo  speechiness  acousticness  instrumentalness  \\\n",
       "0   0.825    0.0936  118.091       0.0325       0.02150          0.000024   \n",
       "1   0.864    0.0389  106.005       0.0652       0.00327          0.000000   \n",
       "2   0.715    0.2880  159.975       0.0636       0.34700          0.013600   \n",
       "3   0.706    0.0640  142.989       0.1600       0.22300          0.000280   \n",
       "5   0.683    0.1250  108.003       0.0253       0.00382          0.000002   \n",
       "\n",
       "   danceability key  duration_ms  loudness  valence mode  \n",
       "0         0.650   0       191014    -4.645    0.593    1  \n",
       "1         0.697  10       199013    -4.344    0.808    1  \n",
       "2         0.559   5       198210    -3.773    0.335    1  \n",
       "3         0.766   7       172598    -6.553    0.766    0  \n",
       "5         0.610   2       241693    -3.879    0.466    0  "
      ]
     },
     "execution_count": 13,
     "metadata": {},
     "output_type": "execute_result"
    }
   ],
   "source": [
    "X.head()"
   ]
  },
  {
   "cell_type": "code",
   "execution_count": 14,
   "id": "a0bbefc9",
   "metadata": {},
   "outputs": [
    {
     "data": {
      "text/plain": [
       "0    0\n",
       "1    0\n",
       "2    0\n",
       "3    0\n",
       "5    0\n",
       "Name: user, dtype: int64"
      ]
     },
     "execution_count": 14,
     "metadata": {},
     "output_type": "execute_result"
    }
   ],
   "source": [
    "y.head()"
   ]
  },
  {
   "cell_type": "code",
   "execution_count": 15,
   "id": "85a2a1f0",
   "metadata": {},
   "outputs": [],
   "source": [
    "# Split data into train and test\n",
    "from sklearn.model_selection import train_test_split\n",
    "np.random.seed(42)\n",
    "X_train, X_test, y_train, y_test = train_test_split(X, y, test_size=0.2)"
   ]
  },
  {
   "cell_type": "code",
   "execution_count": 16,
   "id": "56c1908d",
   "metadata": {},
   "outputs": [
    {
     "data": {
      "text/plain": [
       "((1440, 12), (360, 12), (1440,), (360,))"
      ]
     },
     "execution_count": 16,
     "metadata": {},
     "output_type": "execute_result"
    }
   ],
   "source": [
    "X_train.shape, X_test.shape, y_train.shape, y_test.shape"
   ]
  },
  {
   "cell_type": "code",
   "execution_count": 17,
   "id": "43df750c",
   "metadata": {},
   "outputs": [
    {
     "data": {
      "text/plain": [
       "energy              0\n",
       "liveness            0\n",
       "tempo               0\n",
       "speechiness         0\n",
       "acousticness        0\n",
       "instrumentalness    0\n",
       "danceability        0\n",
       "key                 0\n",
       "duration_ms         0\n",
       "loudness            0\n",
       "valence             0\n",
       "mode                0\n",
       "dtype: int64"
      ]
     },
     "execution_count": 17,
     "metadata": {},
     "output_type": "execute_result"
    }
   ],
   "source": [
    "# Check missing values\n",
    "X.isna().sum()"
   ]
  },
  {
   "cell_type": "markdown",
   "id": "eb46333b",
   "metadata": {},
   "source": [
    "#### ***If there are missing data => consider the imputation separately in training set and testing set"
   ]
  },
  {
   "cell_type": "code",
   "execution_count": 18,
   "id": "a90dfe1f",
   "metadata": {},
   "outputs": [
    {
     "data": {
      "text/plain": [
       "index                 int64\n",
       "energy              float64\n",
       "liveness            float64\n",
       "tempo               float64\n",
       "speechiness         float64\n",
       "acousticness        float64\n",
       "instrumentalness    float64\n",
       "danceability        float64\n",
       "duration_ms           int64\n",
       "loudness            float64\n",
       "valence             float64\n",
       "key_0                 uint8\n",
       "key_1                 uint8\n",
       "key_2                 uint8\n",
       "key_3                 uint8\n",
       "key_4                 uint8\n",
       "key_5                 uint8\n",
       "key_6                 uint8\n",
       "key_7                 uint8\n",
       "key_8                 uint8\n",
       "key_9                 uint8\n",
       "key_10                uint8\n",
       "key_11                uint8\n",
       "mode_0                uint8\n",
       "mode_1                uint8\n",
       "dtype: object"
      ]
     },
     "execution_count": 18,
     "metadata": {},
     "output_type": "execute_result"
    }
   ],
   "source": [
    "# Turn the categories into numbers\n",
    "X_train_dummies = pd.get_dummies(data=X_train, columns=['key','mode']).reset_index()\n",
    "X_test_dummies = pd.get_dummies(data=X_test, columns=['key','mode']).reset_index()\n",
    "X_train_dummies.dtypes"
   ]
  },
  {
   "cell_type": "code",
   "execution_count": 19,
   "id": "89f0668d",
   "metadata": {},
   "outputs": [
    {
     "data": {
      "text/html": [
       "<div>\n",
       "<style scoped>\n",
       "    .dataframe tbody tr th:only-of-type {\n",
       "        vertical-align: middle;\n",
       "    }\n",
       "\n",
       "    .dataframe tbody tr th {\n",
       "        vertical-align: top;\n",
       "    }\n",
       "\n",
       "    .dataframe thead th {\n",
       "        text-align: right;\n",
       "    }\n",
       "</style>\n",
       "<table border=\"1\" class=\"dataframe\">\n",
       "  <thead>\n",
       "    <tr style=\"text-align: right;\">\n",
       "      <th></th>\n",
       "      <th>index</th>\n",
       "      <th>energy</th>\n",
       "      <th>liveness</th>\n",
       "      <th>tempo</th>\n",
       "      <th>speechiness</th>\n",
       "      <th>acousticness</th>\n",
       "      <th>instrumentalness</th>\n",
       "      <th>danceability</th>\n",
       "      <th>duration_ms</th>\n",
       "      <th>loudness</th>\n",
       "      <th>...</th>\n",
       "      <th>key_4</th>\n",
       "      <th>key_5</th>\n",
       "      <th>key_6</th>\n",
       "      <th>key_7</th>\n",
       "      <th>key_8</th>\n",
       "      <th>key_9</th>\n",
       "      <th>key_10</th>\n",
       "      <th>key_11</th>\n",
       "      <th>mode_0</th>\n",
       "      <th>mode_1</th>\n",
       "    </tr>\n",
       "  </thead>\n",
       "  <tbody>\n",
       "    <tr>\n",
       "      <th>0</th>\n",
       "      <td>304</td>\n",
       "      <td>0.943</td>\n",
       "      <td>0.1020</td>\n",
       "      <td>128.994</td>\n",
       "      <td>0.0479</td>\n",
       "      <td>0.11700</td>\n",
       "      <td>0.000006</td>\n",
       "      <td>0.582</td>\n",
       "      <td>174304</td>\n",
       "      <td>-3.855</td>\n",
       "      <td>...</td>\n",
       "      <td>0</td>\n",
       "      <td>0</td>\n",
       "      <td>0</td>\n",
       "      <td>0</td>\n",
       "      <td>0</td>\n",
       "      <td>0</td>\n",
       "      <td>0</td>\n",
       "      <td>0</td>\n",
       "      <td>0</td>\n",
       "      <td>1</td>\n",
       "    </tr>\n",
       "    <tr>\n",
       "      <th>1</th>\n",
       "      <td>308</td>\n",
       "      <td>0.881</td>\n",
       "      <td>0.0802</td>\n",
       "      <td>165.064</td>\n",
       "      <td>0.0396</td>\n",
       "      <td>0.10700</td>\n",
       "      <td>0.382000</td>\n",
       "      <td>0.519</td>\n",
       "      <td>274909</td>\n",
       "      <td>-8.133</td>\n",
       "      <td>...</td>\n",
       "      <td>0</td>\n",
       "      <td>0</td>\n",
       "      <td>0</td>\n",
       "      <td>1</td>\n",
       "      <td>0</td>\n",
       "      <td>0</td>\n",
       "      <td>0</td>\n",
       "      <td>0</td>\n",
       "      <td>0</td>\n",
       "      <td>1</td>\n",
       "    </tr>\n",
       "    <tr>\n",
       "      <th>2</th>\n",
       "      <td>584</td>\n",
       "      <td>0.611</td>\n",
       "      <td>0.2460</td>\n",
       "      <td>118.020</td>\n",
       "      <td>0.0422</td>\n",
       "      <td>0.00363</td>\n",
       "      <td>0.000000</td>\n",
       "      <td>0.769</td>\n",
       "      <td>193493</td>\n",
       "      <td>-5.674</td>\n",
       "      <td>...</td>\n",
       "      <td>0</td>\n",
       "      <td>0</td>\n",
       "      <td>0</td>\n",
       "      <td>0</td>\n",
       "      <td>1</td>\n",
       "      <td>0</td>\n",
       "      <td>0</td>\n",
       "      <td>0</td>\n",
       "      <td>0</td>\n",
       "      <td>1</td>\n",
       "    </tr>\n",
       "    <tr>\n",
       "      <th>3</th>\n",
       "      <td>331</td>\n",
       "      <td>0.938</td>\n",
       "      <td>0.3600</td>\n",
       "      <td>128.009</td>\n",
       "      <td>0.0663</td>\n",
       "      <td>0.35600</td>\n",
       "      <td>0.000000</td>\n",
       "      <td>0.702</td>\n",
       "      <td>246438</td>\n",
       "      <td>-2.718</td>\n",
       "      <td>...</td>\n",
       "      <td>0</td>\n",
       "      <td>0</td>\n",
       "      <td>0</td>\n",
       "      <td>0</td>\n",
       "      <td>0</td>\n",
       "      <td>0</td>\n",
       "      <td>0</td>\n",
       "      <td>1</td>\n",
       "      <td>0</td>\n",
       "      <td>1</td>\n",
       "    </tr>\n",
       "    <tr>\n",
       "      <th>4</th>\n",
       "      <td>33</td>\n",
       "      <td>0.852</td>\n",
       "      <td>0.0991</td>\n",
       "      <td>147.997</td>\n",
       "      <td>0.0881</td>\n",
       "      <td>0.09430</td>\n",
       "      <td>0.000002</td>\n",
       "      <td>0.606</td>\n",
       "      <td>208991</td>\n",
       "      <td>-4.996</td>\n",
       "      <td>...</td>\n",
       "      <td>0</td>\n",
       "      <td>0</td>\n",
       "      <td>0</td>\n",
       "      <td>0</td>\n",
       "      <td>0</td>\n",
       "      <td>0</td>\n",
       "      <td>0</td>\n",
       "      <td>0</td>\n",
       "      <td>0</td>\n",
       "      <td>1</td>\n",
       "    </tr>\n",
       "  </tbody>\n",
       "</table>\n",
       "<p>5 rows × 25 columns</p>\n",
       "</div>"
      ],
      "text/plain": [
       "   index  energy  liveness    tempo  speechiness  acousticness  \\\n",
       "0    304   0.943    0.1020  128.994       0.0479       0.11700   \n",
       "1    308   0.881    0.0802  165.064       0.0396       0.10700   \n",
       "2    584   0.611    0.2460  118.020       0.0422       0.00363   \n",
       "3    331   0.938    0.3600  128.009       0.0663       0.35600   \n",
       "4     33   0.852    0.0991  147.997       0.0881       0.09430   \n",
       "\n",
       "   instrumentalness  danceability  duration_ms  loudness  ...  key_4  key_5  \\\n",
       "0          0.000006         0.582       174304    -3.855  ...      0      0   \n",
       "1          0.382000         0.519       274909    -8.133  ...      0      0   \n",
       "2          0.000000         0.769       193493    -5.674  ...      0      0   \n",
       "3          0.000000         0.702       246438    -2.718  ...      0      0   \n",
       "4          0.000002         0.606       208991    -4.996  ...      0      0   \n",
       "\n",
       "   key_6  key_7  key_8  key_9  key_10  key_11  mode_0  mode_1  \n",
       "0      0      0      0      0       0       0       0       1  \n",
       "1      0      1      0      0       0       0       0       1  \n",
       "2      0      0      1      0       0       0       0       1  \n",
       "3      0      0      0      0       0       1       0       1  \n",
       "4      0      0      0      0       0       0       0       1  \n",
       "\n",
       "[5 rows x 25 columns]"
      ]
     },
     "execution_count": 19,
     "metadata": {},
     "output_type": "execute_result"
    }
   ],
   "source": [
    "X_train_dummies.head()"
   ]
  },
  {
   "cell_type": "code",
   "execution_count": 20,
   "id": "bfb38efb",
   "metadata": {},
   "outputs": [
    {
     "data": {
      "text/plain": [
       "Index(['index', 'energy', 'liveness', 'tempo', 'speechiness', 'acousticness',\n",
       "       'instrumentalness', 'danceability', 'duration_ms', 'loudness',\n",
       "       'valence', 'key_0', 'key_1', 'key_2', 'key_3', 'key_4', 'key_5',\n",
       "       'key_6', 'key_7', 'key_8', 'key_9', 'key_10', 'key_11', 'mode_0',\n",
       "       'mode_1'],\n",
       "      dtype='object')"
      ]
     },
     "execution_count": 20,
     "metadata": {},
     "output_type": "execute_result"
    }
   ],
   "source": [
    "X_train_dummies.columns"
   ]
  },
  {
   "cell_type": "markdown",
   "id": "a07a1a7c",
   "metadata": {},
   "source": [
    "### Standardization"
   ]
  },
  {
   "cell_type": "code",
   "execution_count": 21,
   "id": "642cc4a7",
   "metadata": {},
   "outputs": [],
   "source": [
    "# Standardization  \n",
    "from sklearn.preprocessing import StandardScaler\n",
    "numerical_features = ['energy', 'liveness', 'tempo', 'speechiness', 'acousticness', \n",
    "                      'instrumentalness', 'danceability', 'duration_ms', 'loudness', 'valence']\n",
    "\n",
    "std_scaler = StandardScaler()\n",
    "\n",
    "x = X_train_dummies[numerical_features]\n",
    "x_scaled = std_scaler.fit_transform(x)\n",
    "X_train_std = pd.DataFrame(x_scaled, columns=x.columns)\n",
    "x_rest_col = list(X_train_dummies.drop(numerical_features, axis=1).columns)\n",
    "X_train_std[x_rest_col] = X_train_dummies[x_rest_col]"
   ]
  },
  {
   "cell_type": "code",
   "execution_count": 22,
   "id": "6cdef497",
   "metadata": {},
   "outputs": [],
   "source": [
    "xt = X_test_dummies[numerical_features]\n",
    "xt_scaled = std_scaler.transform(xt)\n",
    "X_test_std = pd.DataFrame(xt_scaled, columns=xt.columns)\n",
    "xt_rest_col = list(X_test_dummies.drop(numerical_features, axis=1).columns)\n",
    "X_test_std[xt_rest_col] = X_test_dummies[xt_rest_col]"
   ]
  },
  {
   "cell_type": "code",
   "execution_count": 23,
   "id": "5b6be676",
   "metadata": {},
   "outputs": [
    {
     "data": {
      "text/html": [
       "<div>\n",
       "<style scoped>\n",
       "    .dataframe tbody tr th:only-of-type {\n",
       "        vertical-align: middle;\n",
       "    }\n",
       "\n",
       "    .dataframe tbody tr th {\n",
       "        vertical-align: top;\n",
       "    }\n",
       "\n",
       "    .dataframe thead th {\n",
       "        text-align: right;\n",
       "    }\n",
       "</style>\n",
       "<table border=\"1\" class=\"dataframe\">\n",
       "  <thead>\n",
       "    <tr style=\"text-align: right;\">\n",
       "      <th></th>\n",
       "      <th>energy</th>\n",
       "      <th>liveness</th>\n",
       "      <th>tempo</th>\n",
       "      <th>speechiness</th>\n",
       "      <th>acousticness</th>\n",
       "      <th>instrumentalness</th>\n",
       "      <th>danceability</th>\n",
       "      <th>duration_ms</th>\n",
       "      <th>loudness</th>\n",
       "      <th>valence</th>\n",
       "      <th>...</th>\n",
       "      <th>key_4</th>\n",
       "      <th>key_5</th>\n",
       "      <th>key_6</th>\n",
       "      <th>key_7</th>\n",
       "      <th>key_8</th>\n",
       "      <th>key_9</th>\n",
       "      <th>key_10</th>\n",
       "      <th>key_11</th>\n",
       "      <th>mode_0</th>\n",
       "      <th>mode_1</th>\n",
       "    </tr>\n",
       "  </thead>\n",
       "  <tbody>\n",
       "    <tr>\n",
       "      <th>0</th>\n",
       "      <td>1.208908</td>\n",
       "      <td>-0.597926</td>\n",
       "      <td>0.133323</td>\n",
       "      <td>-0.282235</td>\n",
       "      <td>-0.491922</td>\n",
       "      <td>-0.241685</td>\n",
       "      <td>0.094215</td>\n",
       "      <td>-1.227848</td>\n",
       "      <td>0.691935</td>\n",
       "      <td>1.275662</td>\n",
       "      <td>...</td>\n",
       "      <td>0</td>\n",
       "      <td>0</td>\n",
       "      <td>0</td>\n",
       "      <td>0</td>\n",
       "      <td>0</td>\n",
       "      <td>0</td>\n",
       "      <td>0</td>\n",
       "      <td>0</td>\n",
       "      <td>0</td>\n",
       "      <td>1</td>\n",
       "    </tr>\n",
       "    <tr>\n",
       "      <th>1</th>\n",
       "      <td>0.919008</td>\n",
       "      <td>-0.764635</td>\n",
       "      <td>1.358836</td>\n",
       "      <td>-0.449695</td>\n",
       "      <td>-0.528000</td>\n",
       "      <td>2.158540</td>\n",
       "      <td>-0.377275</td>\n",
       "      <td>0.808065</td>\n",
       "      <td>-0.609163</td>\n",
       "      <td>-1.451176</td>\n",
       "      <td>...</td>\n",
       "      <td>0</td>\n",
       "      <td>0</td>\n",
       "      <td>0</td>\n",
       "      <td>1</td>\n",
       "      <td>0</td>\n",
       "      <td>0</td>\n",
       "      <td>0</td>\n",
       "      <td>0</td>\n",
       "      <td>0</td>\n",
       "      <td>1</td>\n",
       "    </tr>\n",
       "    <tr>\n",
       "      <th>2</th>\n",
       "      <td>-0.343463</td>\n",
       "      <td>0.503271</td>\n",
       "      <td>-0.239529</td>\n",
       "      <td>-0.397238</td>\n",
       "      <td>-0.900936</td>\n",
       "      <td>-0.241725</td>\n",
       "      <td>1.493717</td>\n",
       "      <td>-0.839526</td>\n",
       "      <td>0.138709</td>\n",
       "      <td>1.160193</td>\n",
       "      <td>...</td>\n",
       "      <td>0</td>\n",
       "      <td>0</td>\n",
       "      <td>0</td>\n",
       "      <td>0</td>\n",
       "      <td>1</td>\n",
       "      <td>0</td>\n",
       "      <td>0</td>\n",
       "      <td>0</td>\n",
       "      <td>0</td>\n",
       "      <td>1</td>\n",
       "    </tr>\n",
       "    <tr>\n",
       "      <th>3</th>\n",
       "      <td>1.185529</td>\n",
       "      <td>1.375052</td>\n",
       "      <td>0.099857</td>\n",
       "      <td>0.089003</td>\n",
       "      <td>0.370337</td>\n",
       "      <td>-0.241725</td>\n",
       "      <td>0.992291</td>\n",
       "      <td>0.231906</td>\n",
       "      <td>1.037738</td>\n",
       "      <td>2.088384</td>\n",
       "      <td>...</td>\n",
       "      <td>0</td>\n",
       "      <td>0</td>\n",
       "      <td>0</td>\n",
       "      <td>0</td>\n",
       "      <td>0</td>\n",
       "      <td>0</td>\n",
       "      <td>0</td>\n",
       "      <td>1</td>\n",
       "      <td>0</td>\n",
       "      <td>1</td>\n",
       "    </tr>\n",
       "    <tr>\n",
       "      <th>4</th>\n",
       "      <td>0.783409</td>\n",
       "      <td>-0.620103</td>\n",
       "      <td>0.778969</td>\n",
       "      <td>0.528838</td>\n",
       "      <td>-0.573819</td>\n",
       "      <td>-0.241713</td>\n",
       "      <td>0.273830</td>\n",
       "      <td>-0.525897</td>\n",
       "      <td>0.344914</td>\n",
       "      <td>0.152062</td>\n",
       "      <td>...</td>\n",
       "      <td>0</td>\n",
       "      <td>0</td>\n",
       "      <td>0</td>\n",
       "      <td>0</td>\n",
       "      <td>0</td>\n",
       "      <td>0</td>\n",
       "      <td>0</td>\n",
       "      <td>0</td>\n",
       "      <td>0</td>\n",
       "      <td>1</td>\n",
       "    </tr>\n",
       "  </tbody>\n",
       "</table>\n",
       "<p>5 rows × 25 columns</p>\n",
       "</div>"
      ],
      "text/plain": [
       "     energy  liveness     tempo  speechiness  acousticness  instrumentalness  \\\n",
       "0  1.208908 -0.597926  0.133323    -0.282235     -0.491922         -0.241685   \n",
       "1  0.919008 -0.764635  1.358836    -0.449695     -0.528000          2.158540   \n",
       "2 -0.343463  0.503271 -0.239529    -0.397238     -0.900936         -0.241725   \n",
       "3  1.185529  1.375052  0.099857     0.089003      0.370337         -0.241725   \n",
       "4  0.783409 -0.620103  0.778969     0.528838     -0.573819         -0.241713   \n",
       "\n",
       "   danceability  duration_ms  loudness   valence  ...  key_4  key_5  key_6  \\\n",
       "0      0.094215    -1.227848  0.691935  1.275662  ...      0      0      0   \n",
       "1     -0.377275     0.808065 -0.609163 -1.451176  ...      0      0      0   \n",
       "2      1.493717    -0.839526  0.138709  1.160193  ...      0      0      0   \n",
       "3      0.992291     0.231906  1.037738  2.088384  ...      0      0      0   \n",
       "4      0.273830    -0.525897  0.344914  0.152062  ...      0      0      0   \n",
       "\n",
       "   key_7  key_8  key_9  key_10  key_11  mode_0  mode_1  \n",
       "0      0      0      0       0       0       0       1  \n",
       "1      1      0      0       0       0       0       1  \n",
       "2      0      1      0       0       0       0       1  \n",
       "3      0      0      0       0       1       0       1  \n",
       "4      0      0      0       0       0       0       1  \n",
       "\n",
       "[5 rows x 25 columns]"
      ]
     },
     "execution_count": 23,
     "metadata": {},
     "output_type": "execute_result"
    }
   ],
   "source": [
    "X_train_std.head()"
   ]
  },
  {
   "cell_type": "code",
   "execution_count": 24,
   "id": "3eef9079",
   "metadata": {},
   "outputs": [
    {
     "data": {
      "text/html": [
       "<div>\n",
       "<style scoped>\n",
       "    .dataframe tbody tr th:only-of-type {\n",
       "        vertical-align: middle;\n",
       "    }\n",
       "\n",
       "    .dataframe tbody tr th {\n",
       "        vertical-align: top;\n",
       "    }\n",
       "\n",
       "    .dataframe thead th {\n",
       "        text-align: right;\n",
       "    }\n",
       "</style>\n",
       "<table border=\"1\" class=\"dataframe\">\n",
       "  <thead>\n",
       "    <tr style=\"text-align: right;\">\n",
       "      <th></th>\n",
       "      <th>energy</th>\n",
       "      <th>liveness</th>\n",
       "      <th>tempo</th>\n",
       "      <th>speechiness</th>\n",
       "      <th>acousticness</th>\n",
       "      <th>instrumentalness</th>\n",
       "      <th>danceability</th>\n",
       "      <th>duration_ms</th>\n",
       "      <th>loudness</th>\n",
       "      <th>valence</th>\n",
       "      <th>...</th>\n",
       "      <th>key_4</th>\n",
       "      <th>key_5</th>\n",
       "      <th>key_6</th>\n",
       "      <th>key_7</th>\n",
       "      <th>key_8</th>\n",
       "      <th>key_9</th>\n",
       "      <th>key_10</th>\n",
       "      <th>key_11</th>\n",
       "      <th>mode_0</th>\n",
       "      <th>mode_1</th>\n",
       "    </tr>\n",
       "  </thead>\n",
       "  <tbody>\n",
       "    <tr>\n",
       "      <th>0</th>\n",
       "      <td>0.867574</td>\n",
       "      <td>0.411504</td>\n",
       "      <td>0.302999</td>\n",
       "      <td>-0.278200</td>\n",
       "      <td>-0.705142</td>\n",
       "      <td>-0.241717</td>\n",
       "      <td>0.386090</td>\n",
       "      <td>0.482072</td>\n",
       "      <td>0.373503</td>\n",
       "      <td>0.560644</td>\n",
       "      <td>...</td>\n",
       "      <td>0</td>\n",
       "      <td>0</td>\n",
       "      <td>0</td>\n",
       "      <td>0</td>\n",
       "      <td>0</td>\n",
       "      <td>1</td>\n",
       "      <td>0</td>\n",
       "      <td>0</td>\n",
       "      <td>0</td>\n",
       "      <td>1</td>\n",
       "    </tr>\n",
       "    <tr>\n",
       "      <th>1</th>\n",
       "      <td>1.017200</td>\n",
       "      <td>0.487976</td>\n",
       "      <td>0.233009</td>\n",
       "      <td>-0.463818</td>\n",
       "      <td>-0.325964</td>\n",
       "      <td>-0.241725</td>\n",
       "      <td>0.041827</td>\n",
       "      <td>-0.277755</td>\n",
       "      <td>1.608299</td>\n",
       "      <td>1.275662</td>\n",
       "      <td>...</td>\n",
       "      <td>0</td>\n",
       "      <td>0</td>\n",
       "      <td>0</td>\n",
       "      <td>0</td>\n",
       "      <td>0</td>\n",
       "      <td>0</td>\n",
       "      <td>0</td>\n",
       "      <td>1</td>\n",
       "      <td>1</td>\n",
       "      <td>0</td>\n",
       "    </tr>\n",
       "    <tr>\n",
       "      <th>2</th>\n",
       "      <td>1.222936</td>\n",
       "      <td>1.344463</td>\n",
       "      <td>-1.189225</td>\n",
       "      <td>1.777729</td>\n",
       "      <td>-0.910738</td>\n",
       "      <td>-0.212696</td>\n",
       "      <td>-1.275352</td>\n",
       "      <td>0.185807</td>\n",
       "      <td>0.831229</td>\n",
       "      <td>0.045476</td>\n",
       "      <td>...</td>\n",
       "      <td>0</td>\n",
       "      <td>0</td>\n",
       "      <td>0</td>\n",
       "      <td>0</td>\n",
       "      <td>0</td>\n",
       "      <td>0</td>\n",
       "      <td>0</td>\n",
       "      <td>1</td>\n",
       "      <td>1</td>\n",
       "      <td>0</td>\n",
       "    </tr>\n",
       "    <tr>\n",
       "      <th>3</th>\n",
       "      <td>-0.656742</td>\n",
       "      <td>-0.597926</td>\n",
       "      <td>0.847634</td>\n",
       "      <td>-0.655490</td>\n",
       "      <td>-0.419767</td>\n",
       "      <td>-0.241578</td>\n",
       "      <td>-0.085400</td>\n",
       "      <td>1.861730</td>\n",
       "      <td>-0.047422</td>\n",
       "      <td>-0.407517</td>\n",
       "      <td>...</td>\n",
       "      <td>0</td>\n",
       "      <td>0</td>\n",
       "      <td>0</td>\n",
       "      <td>0</td>\n",
       "      <td>0</td>\n",
       "      <td>0</td>\n",
       "      <td>1</td>\n",
       "      <td>0</td>\n",
       "      <td>0</td>\n",
       "      <td>1</td>\n",
       "    </tr>\n",
       "    <tr>\n",
       "      <th>4</th>\n",
       "      <td>-0.530495</td>\n",
       "      <td>-0.654516</td>\n",
       "      <td>0.166110</td>\n",
       "      <td>-0.588909</td>\n",
       "      <td>-0.012088</td>\n",
       "      <td>-0.241725</td>\n",
       "      <td>0.423510</td>\n",
       "      <td>0.862988</td>\n",
       "      <td>-0.404783</td>\n",
       "      <td>-1.455617</td>\n",
       "      <td>...</td>\n",
       "      <td>0</td>\n",
       "      <td>0</td>\n",
       "      <td>0</td>\n",
       "      <td>1</td>\n",
       "      <td>0</td>\n",
       "      <td>0</td>\n",
       "      <td>0</td>\n",
       "      <td>0</td>\n",
       "      <td>1</td>\n",
       "      <td>0</td>\n",
       "    </tr>\n",
       "  </tbody>\n",
       "</table>\n",
       "<p>5 rows × 25 columns</p>\n",
       "</div>"
      ],
      "text/plain": [
       "     energy  liveness     tempo  speechiness  acousticness  instrumentalness  \\\n",
       "0  0.867574  0.411504  0.302999    -0.278200     -0.705142         -0.241717   \n",
       "1  1.017200  0.487976  0.233009    -0.463818     -0.325964         -0.241725   \n",
       "2  1.222936  1.344463 -1.189225     1.777729     -0.910738         -0.212696   \n",
       "3 -0.656742 -0.597926  0.847634    -0.655490     -0.419767         -0.241578   \n",
       "4 -0.530495 -0.654516  0.166110    -0.588909     -0.012088         -0.241725   \n",
       "\n",
       "   danceability  duration_ms  loudness   valence  ...  key_4  key_5  key_6  \\\n",
       "0      0.386090     0.482072  0.373503  0.560644  ...      0      0      0   \n",
       "1      0.041827    -0.277755  1.608299  1.275662  ...      0      0      0   \n",
       "2     -1.275352     0.185807  0.831229  0.045476  ...      0      0      0   \n",
       "3     -0.085400     1.861730 -0.047422 -0.407517  ...      0      0      0   \n",
       "4      0.423510     0.862988 -0.404783 -1.455617  ...      0      0      0   \n",
       "\n",
       "   key_7  key_8  key_9  key_10  key_11  mode_0  mode_1  \n",
       "0      0      0      1       0       0       0       1  \n",
       "1      0      0      0       0       1       1       0  \n",
       "2      0      0      0       0       1       1       0  \n",
       "3      0      0      0       1       0       0       1  \n",
       "4      1      0      0       0       0       1       0  \n",
       "\n",
       "[5 rows x 25 columns]"
      ]
     },
     "execution_count": 24,
     "metadata": {},
     "output_type": "execute_result"
    }
   ],
   "source": [
    "X_test_std.head()"
   ]
  },
  {
   "cell_type": "markdown",
   "id": "97ad3fcd",
   "metadata": {},
   "source": [
    "### 2. Logistic regression model"
   ]
  },
  {
   "cell_type": "code",
   "execution_count": 25,
   "id": "2a9ce7b1",
   "metadata": {},
   "outputs": [],
   "source": [
    "def evaluate_preds(y_true, y_preds):\n",
    "    \"\"\"\n",
    "    Performs evaluation comparison on y_true labels vs. y_pred labels\n",
    "    on a classification.\n",
    "    \"\"\"\n",
    "    from sklearn.metrics import accuracy_score, precision_score, recall_score, f1_score\n",
    "    accuracy = accuracy_score(y_true, y_preds)\n",
    "    precision = precision_score(y_true, y_preds)\n",
    "    recall = recall_score(y_true, y_preds)\n",
    "    f1 = f1_score(y_true, y_preds)\n",
    "    metric_dict = {\"accuracy\": round(accuracy, 2),\n",
    "                   \"precision\": round(precision, 2),\n",
    "                   \"recall\": round(recall, 2),\n",
    "                   \"f1\": round(f1, 2)}\n",
    "    print(f\"Accuracy: {accuracy * 100:.2f}%\")\n",
    "    print(f\"Precision: {precision:.2f}\")\n",
    "    print(f\"Recall: {recall:.2f}\")\n",
    "    print(f\"F1 score: {f1:.2f}\")\n",
    "    \n",
    "    return metric_dict"
   ]
  },
  {
   "cell_type": "code",
   "execution_count": 26,
   "id": "88196533",
   "metadata": {},
   "outputs": [],
   "source": [
    "# Confusion matrix & ROC curve\n",
    "def conf_mat_and_roc(conf_mat, fpr, tpr):\n",
    "    \n",
    "    fig, axes = plt.subplots(1, 2, figsize=(10,5))\n",
    "    plt.subplot(1, 2, 1)\n",
    "    import seaborn as sns\n",
    "    sns.set(font_scale=1.5) # Set the font scale \n",
    "    sns.heatmap(conf_mat,\n",
    "                 annot=True, # Annotate the boxes with conf_mat info\n",
    "                 fmt='.20g',\n",
    "                 cbar=False);\n",
    "\n",
    "    plt.xlabel(\"Predicted label\")\n",
    "    plt.ylabel(\"True label\")\n",
    "    plt.title(\"Confusion Matrix\")\n",
    "    \n",
    "    \n",
    "    import matplotlib as mpl\n",
    "    mpl.rcParams.update(mpl.rcParamsDefault)\n",
    "\n",
    "    plt.subplot(1, 2, 2)\n",
    "    plt.plot(fpr, tpr, color='orange', label='ROC')\n",
    "    plt.plot([0, 1], [0, 1], color='darkblue', linestyle='--', label='')\n",
    "\n",
    "    plt.xlabel(\"False positive rate (fpr)\")\n",
    "    plt.ylabel(\"True positive rate (tpr)\")\n",
    "    plt.title(\"Receiver Operating Characteristic (ROC) Curve\")\n",
    "    plt.legend()\n",
    "    plt.tight_layout()\n",
    "    plt.show()"
   ]
  },
  {
   "cell_type": "code",
   "execution_count": 27,
   "id": "0c12b187",
   "metadata": {},
   "outputs": [],
   "source": [
    "def predict(model, X_train, X_test):\n",
    "    from sklearn.model_selection import cross_val_score\n",
    "\n",
    "    if model == 'LogisticRegression':\n",
    "        from sklearn import linear_model\n",
    "        clf = linear_model.LogisticRegression(max_iter=500)\n",
    "\n",
    "    elif model == 'RandomForestClassifier':\n",
    "        from sklearn.ensemble import RandomForestClassifier\n",
    "        clf = RandomForestClassifier(n_estimators=100)\n",
    "    else:\n",
    "        print('Wrong model')\n",
    "\n",
    "    # Setup random seed\n",
    "    np.random.seed(42)\n",
    "\n",
    "    # Fit the model\n",
    "    clf.fit(X_train, y_train)\n",
    "\n",
    "    # Make predictions with probabilities\n",
    "    y_probs = clf.predict_proba(X_test)\n",
    "\n",
    "    # Make predictions\n",
    "    y_preds = clf.predict(X_test)\n",
    "\n",
    "    # Evaluate the model\n",
    "    evaluate_preds(y_test, y_preds)\n",
    "    \n",
    "    from sklearn.metrics import roc_curve\n",
    "    # Make predictions with probabilities\n",
    "    y_probs = clf.predict_proba(X_test)\n",
    "    y_probs_positive = y_probs[:, 1]\n",
    "    fpr, tpr, thresholds = roc_curve(y_test, y_probs_positive)\n",
    "    \n",
    "    from sklearn.metrics import confusion_matrix\n",
    "    conf_mat = confusion_matrix(y_test, y_preds)\n",
    "    \n",
    "    #return y_preds, y_probs, fpr, tpr, conf_mat;\n",
    "    conf_mat_and_roc(conf_mat, fpr, tpr)\n",
    "    \n",
    "    from sklearn.metrics import roc_auc_score\n",
    "    print(f'AUC: {roc_auc_score(y_test, y_probs_positive)}')"
   ]
  },
  {
   "cell_type": "markdown",
   "id": "1675526b",
   "metadata": {},
   "source": [
    "### 2-1. Logistic regression model (fit the model before scaling X)"
   ]
  },
  {
   "cell_type": "code",
   "execution_count": 28,
   "id": "068d7d74",
   "metadata": {},
   "outputs": [
    {
     "name": "stdout",
     "output_type": "stream",
     "text": [
      "Accuracy: 66.11%\n",
      "Precision: 0.72\n",
      "Recall: 0.83\n",
      "F1 score: 0.77\n"
     ]
    },
    {
     "data": {
      "image/png": "[encoded data removed]",
      "text/plain": [
       "<Figure size 720x360 with 2 Axes>"
      ]
     },
     "metadata": {
      "needs_background": "light"
     },
     "output_type": "display_data"
    },
    {
     "name": "stdout",
     "output_type": "stream",
     "text": [
      "AUC: 0.7637168778801844\n"
     ]
    }
   ],
   "source": [
    "predict(model='LogisticRegression',  X_train=X_train_dummies, X_test=X_test_dummies)"
   ]
  },
  {
   "cell_type": "markdown",
   "id": "9386d91b",
   "metadata": {},
   "source": [
    "### 2-2. Logistic regression model (fit the model after scaling X)"
   ]
  },
  {
   "cell_type": "code",
   "execution_count": 29,
   "id": "ee239f75",
   "metadata": {},
   "outputs": [
    {
     "name": "stdout",
     "output_type": "stream",
     "text": [
      "Accuracy: 78.89%\n",
      "Precision: 0.82\n",
      "Recall: 0.88\n",
      "F1 score: 0.85\n"
     ]
    },
    {
     "data": {
      "image/png": "[encoded data removed]",
      "text/plain": [
       "<Figure size 1000x500 with 2 Axes>"
      ]
     },
     "metadata": {},
     "output_type": "display_data"
    },
    {
     "name": "stdout",
     "output_type": "stream",
     "text": [
      "AUC: 0.8608870967741935\n"
     ]
    }
   ],
   "source": [
    "predict(model='LogisticRegression',  X_train=X_train_std, X_test=X_test_std)"
   ]
  },
  {
   "cell_type": "markdown",
   "id": "90eefef1",
   "metadata": {},
   "source": [
    "**Standardization can improve the performance of logistic regression!**"
   ]
  },
  {
   "cell_type": "markdown",
   "id": "0f4c42af",
   "metadata": {},
   "source": [
    "### 3. Random forest classifier\n",
    "### 3-1. Random forest classifier (fit the model before scaling X)"
   ]
  },
  {
   "cell_type": "code",
   "execution_count": 30,
   "id": "29ef4060",
   "metadata": {},
   "outputs": [
    {
     "name": "stdout",
     "output_type": "stream",
     "text": [
      "Accuracy: 83.61%\n",
      "Precision: 0.85\n",
      "Recall: 0.92\n",
      "F1 score: 0.89\n"
     ]
    },
    {
     "data": {
      "image/png": "[encoded data removed]",
      "text/plain": [
       "<Figure size 1000x500 with 2 Axes>"
      ]
     },
     "metadata": {},
     "output_type": "display_data"
    },
    {
     "name": "stdout",
     "output_type": "stream",
     "text": [
      "AUC: 0.9199488767281105\n"
     ]
    }
   ],
   "source": [
    "predict(model='RandomForestClassifier',  X_train=X_train_dummies, X_test=X_test_dummies)"
   ]
  },
  {
   "cell_type": "markdown",
   "id": "6bdfffd5",
   "metadata": {},
   "source": [
    "### 3-2. Random forest classifier (fit the model after scaling X)"
   ]
  },
  {
   "cell_type": "code",
   "execution_count": 31,
   "id": "71d1a4d1",
   "metadata": {},
   "outputs": [
    {
     "name": "stdout",
     "output_type": "stream",
     "text": [
      "Accuracy: 83.06%\n",
      "Precision: 0.85\n",
      "Recall: 0.92\n",
      "F1 score: 0.88\n"
     ]
    },
    {
     "data": {
      "image/png": "[encoded data removed]",
      "text/plain": [
       "<Figure size 1000x500 with 2 Axes>"
      ]
     },
     "metadata": {},
     "output_type": "display_data"
    },
    {
     "name": "stdout",
     "output_type": "stream",
     "text": [
      "AUC: 0.9218930011520736\n"
     ]
    }
   ],
   "source": [
    "predict(model='RandomForestClassifier',  X_train=X_train_std, X_test=X_test_std)"
   ]
  },
  {
   "cell_type": "markdown",
   "id": "8d7185ff",
   "metadata": {},
   "source": [
    "**Scaling is not necessary for random forest classifier.**"
   ]
  },
  {
   "cell_type": "markdown",
   "id": "05ae1f10",
   "metadata": {},
   "source": [
    "### 4. Hyperparameters tuning\n",
    "### 4-1. RandomizedSearchCV"
   ]
  },
  {
   "cell_type": "code",
   "execution_count": 32,
   "id": "e8f27b47",
   "metadata": {},
   "outputs": [
    {
     "name": "stdout",
     "output_type": "stream",
     "text": [
      "Fitting 5 folds for each of 10 candidates, totalling 50 fits\n",
      "[CV] END max_depth=5, max_features=auto, min_samples_leaf=1, min_samples_split=2, n_estimators=200; total time=   0.8s\n",
      "[CV] END max_depth=5, max_features=auto, min_samples_leaf=1, min_samples_split=2, n_estimators=200; total time=   0.8s\n",
      "[CV] END max_depth=5, max_features=auto, min_samples_leaf=1, min_samples_split=2, n_estimators=200; total time=   0.8s\n",
      "[CV] END max_depth=5, max_features=auto, min_samples_leaf=1, min_samples_split=2, n_estimators=200; total time=   0.8s\n",
      "[CV] END max_depth=5, max_features=auto, min_samples_leaf=1, min_samples_split=2, n_estimators=200; total time=   0.7s\n",
      "[CV] END max_depth=20, max_features=sqrt, min_samples_leaf=4, min_samples_split=2, n_estimators=1200; total time=   5.4s\n",
      "[CV] END max_depth=20, max_features=sqrt, min_samples_leaf=4, min_samples_split=2, n_estimators=1200; total time=   5.5s\n",
      "[CV] END max_depth=20, max_features=sqrt, min_samples_leaf=4, min_samples_split=2, n_estimators=1200; total time=   7.6s\n",
      "[CV] END max_depth=20, max_features=sqrt, min_samples_leaf=4, min_samples_split=2, n_estimators=1200; total time=   6.7s\n",
      "[CV] END max_depth=20, max_features=sqrt, min_samples_leaf=4, min_samples_split=2, n_estimators=1200; total time=   7.0s\n",
      "[CV] END max_depth=10, max_features=auto, min_samples_leaf=2, min_samples_split=4, n_estimators=500; total time=   2.5s\n",
      "[CV] END max_depth=10, max_features=auto, min_samples_leaf=2, min_samples_split=4, n_estimators=500; total time=   2.5s\n",
      "[CV] END max_depth=10, max_features=auto, min_samples_leaf=2, min_samples_split=4, n_estimators=500; total time=   3.3s\n",
      "[CV] END max_depth=10, max_features=auto, min_samples_leaf=2, min_samples_split=4, n_estimators=500; total time=   4.1s\n",
      "[CV] END max_depth=10, max_features=auto, min_samples_leaf=2, min_samples_split=4, n_estimators=500; total time=   2.8s\n",
      "[CV] END max_depth=None, max_features=sqrt, min_samples_leaf=2, min_samples_split=2, n_estimators=1200; total time=   6.4s\n",
      "[CV] END max_depth=None, max_features=sqrt, min_samples_leaf=2, min_samples_split=2, n_estimators=1200; total time=   5.8s\n",
      "[CV] END max_depth=None, max_features=sqrt, min_samples_leaf=2, min_samples_split=2, n_estimators=1200; total time=   5.8s\n",
      "[CV] END max_depth=None, max_features=sqrt, min_samples_leaf=2, min_samples_split=2, n_estimators=1200; total time=   5.8s\n",
      "[CV] END max_depth=None, max_features=sqrt, min_samples_leaf=2, min_samples_split=2, n_estimators=1200; total time=   6.1s\n",
      "[CV] END max_depth=5, max_features=sqrt, min_samples_leaf=2, min_samples_split=2, n_estimators=100; total time=   0.3s\n",
      "[CV] END max_depth=5, max_features=sqrt, min_samples_leaf=2, min_samples_split=2, n_estimators=100; total time=   0.3s\n",
      "[CV] END max_depth=5, max_features=sqrt, min_samples_leaf=2, min_samples_split=2, n_estimators=100; total time=   0.3s\n",
      "[CV] END max_depth=5, max_features=sqrt, min_samples_leaf=2, min_samples_split=2, n_estimators=100; total time=   0.3s\n",
      "[CV] END max_depth=5, max_features=sqrt, min_samples_leaf=2, min_samples_split=2, n_estimators=100; total time=   0.3s\n",
      "[CV] END max_depth=10, max_features=sqrt, min_samples_leaf=1, min_samples_split=6, n_estimators=200; total time=   1.2s\n",
      "[CV] END max_depth=10, max_features=sqrt, min_samples_leaf=1, min_samples_split=6, n_estimators=200; total time=   1.2s\n",
      "[CV] END max_depth=10, max_features=sqrt, min_samples_leaf=1, min_samples_split=6, n_estimators=200; total time=   1.1s\n",
      "[CV] END max_depth=10, max_features=sqrt, min_samples_leaf=1, min_samples_split=6, n_estimators=200; total time=   1.1s\n",
      "[CV] END max_depth=10, max_features=sqrt, min_samples_leaf=1, min_samples_split=6, n_estimators=200; total time=   0.9s\n",
      "[CV] END max_depth=None, max_features=auto, min_samples_leaf=1, min_samples_split=4, n_estimators=1000; total time=   5.9s\n",
      "[CV] END max_depth=None, max_features=auto, min_samples_leaf=1, min_samples_split=4, n_estimators=1000; total time=   6.2s\n",
      "[CV] END max_depth=None, max_features=auto, min_samples_leaf=1, min_samples_split=4, n_estimators=1000; total time=   6.1s\n",
      "[CV] END max_depth=None, max_features=auto, min_samples_leaf=1, min_samples_split=4, n_estimators=1000; total time=   6.4s\n",
      "[CV] END max_depth=None, max_features=auto, min_samples_leaf=1, min_samples_split=4, n_estimators=1000; total time=   5.6s\n",
      "[CV] END max_depth=30, max_features=auto, min_samples_leaf=4, min_samples_split=2, n_estimators=100; total time=   0.5s\n",
      "[CV] END max_depth=30, max_features=auto, min_samples_leaf=4, min_samples_split=2, n_estimators=100; total time=   0.5s\n",
      "[CV] END max_depth=30, max_features=auto, min_samples_leaf=4, min_samples_split=2, n_estimators=100; total time=   0.5s\n",
      "[CV] END max_depth=30, max_features=auto, min_samples_leaf=4, min_samples_split=2, n_estimators=100; total time=   0.5s\n",
      "[CV] END max_depth=30, max_features=auto, min_samples_leaf=4, min_samples_split=2, n_estimators=100; total time=   0.5s\n",
      "[CV] END max_depth=None, max_features=sqrt, min_samples_leaf=2, min_samples_split=4, n_estimators=10; total time=   0.0s\n",
      "[CV] END max_depth=None, max_features=sqrt, min_samples_leaf=2, min_samples_split=4, n_estimators=10; total time=   0.0s\n",
      "[CV] END max_depth=None, max_features=sqrt, min_samples_leaf=2, min_samples_split=4, n_estimators=10; total time=   0.0s\n",
      "[CV] END max_depth=None, max_features=sqrt, min_samples_leaf=2, min_samples_split=4, n_estimators=10; total time=   0.0s\n",
      "[CV] END max_depth=None, max_features=sqrt, min_samples_leaf=2, min_samples_split=4, n_estimators=10; total time=   0.0s\n",
      "[CV] END max_depth=20, max_features=auto, min_samples_leaf=2, min_samples_split=4, n_estimators=100; total time=   0.5s\n",
      "[CV] END max_depth=20, max_features=auto, min_samples_leaf=2, min_samples_split=4, n_estimators=100; total time=   0.5s\n",
      "[CV] END max_depth=20, max_features=auto, min_samples_leaf=2, min_samples_split=4, n_estimators=100; total time=   0.5s\n",
      "[CV] END max_depth=20, max_features=auto, min_samples_leaf=2, min_samples_split=4, n_estimators=100; total time=   0.5s\n",
      "[CV] END max_depth=20, max_features=auto, min_samples_leaf=2, min_samples_split=4, n_estimators=100; total time=   0.6s\n",
      "{'n_estimators': 1000, 'min_samples_split': 4, 'min_samples_leaf': 1, 'max_features': 'auto', 'max_depth': None}\n"
     ]
    },
    {
     "data": {
      "text/plain": [
       "0.8361111111111111"
      ]
     },
     "execution_count": 32,
     "metadata": {},
     "output_type": "execute_result"
    }
   ],
   "source": [
    "from sklearn.model_selection import RandomizedSearchCV\n",
    "\n",
    "# Define a grid of hyperparameters\n",
    "grid = {\"n_estimators\": [10, 100, 200, 500, 1000, 1200],\n",
    "        \"max_depth\": [None, 5, 10, 20, 30],\n",
    "        \"max_features\": [\"auto\", \"sqrt\"],\n",
    "        \"min_samples_split\": [2, 4, 6],\n",
    "        \"min_samples_leaf\": [1, 2, 4]}\n",
    "\n",
    "from sklearn.ensemble import RandomForestClassifier\n",
    "clf = RandomForestClassifier(n_jobs=1)\n",
    "\n",
    "# Setup RandomizedSearchCV\n",
    "rs_clf = RandomizedSearchCV(estimator=clf,\n",
    "                            param_distributions=grid,\n",
    "                            n_iter=10, # try 10 models total\n",
    "                            cv=5, # 5-fold cross-validation\n",
    "                            verbose=2) # print out results\n",
    "\n",
    "# Fit the RandomizedSearchCV version of clf\n",
    "rs_clf.fit(X_train_std, y_train);\n",
    "\n",
    "# Find the best hyperparameters\n",
    "print(rs_clf.best_params_)\n",
    "\n",
    "# Scoring automatically uses the best hyperparameters\n",
    "rs_clf.score(X_test_std, y_test)"
   ]
  },
  {
   "cell_type": "code",
   "execution_count": 33,
   "id": "a3e19001",
   "metadata": {},
   "outputs": [
    {
     "data": {
      "text/plain": [
       "{'n_estimators': 1000,\n",
       " 'min_samples_split': 4,\n",
       " 'min_samples_leaf': 1,\n",
       " 'max_features': 'auto',\n",
       " 'max_depth': None}"
      ]
     },
     "execution_count": 33,
     "metadata": {},
     "output_type": "execute_result"
    }
   ],
   "source": [
    "rs_clf.best_params_"
   ]
  },
  {
   "cell_type": "code",
   "execution_count": 34,
   "id": "b33c81af",
   "metadata": {},
   "outputs": [
    {
     "name": "stdout",
     "output_type": "stream",
     "text": [
      "Accuracy: 83.61%\n",
      "Precision: 0.85\n",
      "Recall: 0.92\n",
      "F1 score: 0.89\n"
     ]
    }
   ],
   "source": [
    "# Make predictions with the best hyperparameters\n",
    "rs_y_preds = rs_clf.predict(X_test_std)\n",
    "\n",
    "# Evaluate the predictions\n",
    "rs_metrics = evaluate_preds(y_test, rs_y_preds)"
   ]
  },
  {
   "cell_type": "markdown",
   "id": "cde2b1a8",
   "metadata": {},
   "source": [
    "### 4-2. GridSearchCV"
   ]
  },
  {
   "cell_type": "code",
   "execution_count": 35,
   "id": "b554803b",
   "metadata": {},
   "outputs": [],
   "source": [
    "grid_2 = {'n_estimators': [100, 1000],\n",
    "          'max_depth': [None],\n",
    "          'max_features': ['auto', 'sqrt'],\n",
    "          'min_samples_split': [4],\n",
    "          'min_samples_leaf': [1, 2]}"
   ]
  },
  {
   "cell_type": "code",
   "execution_count": 36,
   "id": "4c5a8983",
   "metadata": {},
   "outputs": [
    {
     "name": "stdout",
     "output_type": "stream",
     "text": [
      "Fitting 5 folds for each of 8 candidates, totalling 40 fits\n",
      "[CV] END max_depth=None, max_features=auto, min_samples_leaf=1, min_samples_split=4, n_estimators=100; total time=   0.6s\n",
      "[CV] END max_depth=None, max_features=auto, min_samples_leaf=1, min_samples_split=4, n_estimators=100; total time=   0.6s\n",
      "[CV] END max_depth=None, max_features=auto, min_samples_leaf=1, min_samples_split=4, n_estimators=100; total time=   0.7s\n",
      "[CV] END max_depth=None, max_features=auto, min_samples_leaf=1, min_samples_split=4, n_estimators=100; total time=   0.6s\n",
      "[CV] END max_depth=None, max_features=auto, min_samples_leaf=1, min_samples_split=4, n_estimators=100; total time=   0.4s\n",
      "[CV] END max_depth=None, max_features=auto, min_samples_leaf=1, min_samples_split=4, n_estimators=1000; total time=   4.9s\n",
      "[CV] END max_depth=None, max_features=auto, min_samples_leaf=1, min_samples_split=4, n_estimators=1000; total time=   5.3s\n",
      "[CV] END max_depth=None, max_features=auto, min_samples_leaf=1, min_samples_split=4, n_estimators=1000; total time=   6.9s\n",
      "[CV] END max_depth=None, max_features=auto, min_samples_leaf=1, min_samples_split=4, n_estimators=1000; total time=   6.9s\n",
      "[CV] END max_depth=None, max_features=auto, min_samples_leaf=1, min_samples_split=4, n_estimators=1000; total time=   6.0s\n",
      "[CV] END max_depth=None, max_features=auto, min_samples_leaf=2, min_samples_split=4, n_estimators=100; total time=   0.6s\n",
      "[CV] END max_depth=None, max_features=auto, min_samples_leaf=2, min_samples_split=4, n_estimators=100; total time=   0.5s\n",
      "[CV] END max_depth=None, max_features=auto, min_samples_leaf=2, min_samples_split=4, n_estimators=100; total time=   0.5s\n",
      "[CV] END max_depth=None, max_features=auto, min_samples_leaf=2, min_samples_split=4, n_estimators=100; total time=   0.5s\n",
      "[CV] END max_depth=None, max_features=auto, min_samples_leaf=2, min_samples_split=4, n_estimators=100; total time=   0.5s\n",
      "[CV] END max_depth=None, max_features=auto, min_samples_leaf=2, min_samples_split=4, n_estimators=1000; total time=   5.7s\n",
      "[CV] END max_depth=None, max_features=auto, min_samples_leaf=2, min_samples_split=4, n_estimators=1000; total time=   6.0s\n",
      "[CV] END max_depth=None, max_features=auto, min_samples_leaf=2, min_samples_split=4, n_estimators=1000; total time=   6.5s\n",
      "[CV] END max_depth=None, max_features=auto, min_samples_leaf=2, min_samples_split=4, n_estimators=1000; total time=   6.1s\n",
      "[CV] END max_depth=None, max_features=auto, min_samples_leaf=2, min_samples_split=4, n_estimators=1000; total time=   5.9s\n",
      "[CV] END max_depth=None, max_features=sqrt, min_samples_leaf=1, min_samples_split=4, n_estimators=100; total time=   0.5s\n",
      "[CV] END max_depth=None, max_features=sqrt, min_samples_leaf=1, min_samples_split=4, n_estimators=100; total time=   0.5s\n",
      "[CV] END max_depth=None, max_features=sqrt, min_samples_leaf=1, min_samples_split=4, n_estimators=100; total time=   0.6s\n",
      "[CV] END max_depth=None, max_features=sqrt, min_samples_leaf=1, min_samples_split=4, n_estimators=100; total time=   0.5s\n",
      "[CV] END max_depth=None, max_features=sqrt, min_samples_leaf=1, min_samples_split=4, n_estimators=100; total time=   0.5s\n",
      "[CV] END max_depth=None, max_features=sqrt, min_samples_leaf=1, min_samples_split=4, n_estimators=1000; total time=   6.2s\n",
      "[CV] END max_depth=None, max_features=sqrt, min_samples_leaf=1, min_samples_split=4, n_estimators=1000; total time=   5.4s\n",
      "[CV] END max_depth=None, max_features=sqrt, min_samples_leaf=1, min_samples_split=4, n_estimators=1000; total time=   7.6s\n",
      "[CV] END max_depth=None, max_features=sqrt, min_samples_leaf=1, min_samples_split=4, n_estimators=1000; total time=   6.1s\n",
      "[CV] END max_depth=None, max_features=sqrt, min_samples_leaf=1, min_samples_split=4, n_estimators=1000; total time=   6.0s\n",
      "[CV] END max_depth=None, max_features=sqrt, min_samples_leaf=2, min_samples_split=4, n_estimators=100; total time=   0.6s\n",
      "[CV] END max_depth=None, max_features=sqrt, min_samples_leaf=2, min_samples_split=4, n_estimators=100; total time=   0.6s\n",
      "[CV] END max_depth=None, max_features=sqrt, min_samples_leaf=2, min_samples_split=4, n_estimators=100; total time=   0.5s\n",
      "[CV] END max_depth=None, max_features=sqrt, min_samples_leaf=2, min_samples_split=4, n_estimators=100; total time=   0.5s\n",
      "[CV] END max_depth=None, max_features=sqrt, min_samples_leaf=2, min_samples_split=4, n_estimators=100; total time=   0.7s\n",
      "[CV] END max_depth=None, max_features=sqrt, min_samples_leaf=2, min_samples_split=4, n_estimators=1000; total time=   6.6s\n",
      "[CV] END max_depth=None, max_features=sqrt, min_samples_leaf=2, min_samples_split=4, n_estimators=1000; total time=   5.8s\n",
      "[CV] END max_depth=None, max_features=sqrt, min_samples_leaf=2, min_samples_split=4, n_estimators=1000; total time=   6.1s\n",
      "[CV] END max_depth=None, max_features=sqrt, min_samples_leaf=2, min_samples_split=4, n_estimators=1000; total time=   6.5s\n",
      "[CV] END max_depth=None, max_features=sqrt, min_samples_leaf=2, min_samples_split=4, n_estimators=1000; total time=   6.4s\n"
     ]
    }
   ],
   "source": [
    "from sklearn.model_selection import GridSearchCV\n",
    "\n",
    "np.random.seed(42)\n",
    "\n",
    "# Instantiate RandomForestClassifier\n",
    "clf = RandomForestClassifier(n_jobs=1)\n",
    "\n",
    "# Setup GridSearchCV\n",
    "gs_clf = GridSearchCV(estimator=clf,\n",
    "                      param_grid=grid_2, \n",
    "                      cv=5,\n",
    "                      verbose=2)\n",
    "\n",
    "# Fit the GridSearchCV version of clf\n",
    "gs_clf.fit(X_train_std, y_train);"
   ]
  },
  {
   "cell_type": "code",
   "execution_count": 37,
   "id": "732a3a14",
   "metadata": {},
   "outputs": [
    {
     "data": {
      "text/plain": [
       "{'max_depth': None,\n",
       " 'max_features': 'sqrt',\n",
       " 'min_samples_leaf': 1,\n",
       " 'min_samples_split': 4,\n",
       " 'n_estimators': 1000}"
      ]
     },
     "execution_count": 37,
     "metadata": {},
     "output_type": "execute_result"
    }
   ],
   "source": [
    "gs_clf.best_params_"
   ]
  },
  {
   "cell_type": "code",
   "execution_count": 38,
   "id": "69cfc404",
   "metadata": {},
   "outputs": [
    {
     "name": "stdout",
     "output_type": "stream",
     "text": [
      "Accuracy: 83.61%\n",
      "Precision: 0.85\n",
      "Recall: 0.93\n",
      "F1 score: 0.89\n"
     ]
    }
   ],
   "source": [
    "gs_y_preds = gs_clf.predict(X_test_std)\n",
    "\n",
    "# evaluate the predictions\n",
    "gs_metrics = evaluate_preds(y_test, gs_y_preds)"
   ]
  },
  {
   "cell_type": "markdown",
   "id": "11fd7250",
   "metadata": {},
   "source": [
    "### 5. Conclusions\n",
    "\n",
    "* Based on the findings in notebook 1, **there were only 25 songs repeated in my playlist and Cindy's playlist, which stands a very small percent of our liked songs in playlist.** However, **our songs do have very similar audio features: most of them tend to be energetic and suitable for dancing.** \n",
    "* Findings in Notebook 2:\n",
    "    - I trained a machine learning model (random forest classifier) with the purpose of predicting if a song should belong to my playlist or Cindy's playlist. **The accuracy of the model was 83.61%, F1 score = 0.89, which is pretty good.**\n",
    "    - I have to drop songs that were added to both of our playlists in this classification project.\n",
    "    - After dropping 25 repeated songs in our playlists, **there are 536 songs in my playlist and 1264 songs in Cindy's playlist.** Due to the **imbalanced data**, when considering the metrics of the model performance, I value Precision/Recall/F1 score more than Accuracy. \n",
    "    - **Standardization can improve the performance of logistic regression.**\n",
    "    - **Scaling is not necessary for random forest classifier.**\n",
    "    - Future topics: \n",
    "      1. How to better handle imbalanced data\n",
    "      2. Multicollinearity"
   ]
  }
 ],
 "metadata": {
  "kernelspec": {
   "display_name": "Python 3",
   "language": "python",
   "name": "python3"
  },
  "language_info": {
   "codemirror_mode": {
    "name": "ipython",
    "version": 3
   },
   "file_extension": ".py",
   "mimetype": "text/x-python",
   "name": "python",
   "nbconvert_exporter": "python",
   "pygments_lexer": "ipython3",
   "version": "3.9.1"
  }
 },
 "nbformat": 4,
 "nbformat_minor": 5
}
